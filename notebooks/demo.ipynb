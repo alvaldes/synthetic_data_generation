{
 "cells": [
  {
   "cell_type": "markdown",
   "metadata": {},
   "source": [
    "# 🚀 Simple Pipeline - Interactive Demo\n",
    "\n",
    "Este notebook muestra cómo usar Simple Pipeline para crear datasets sintéticos con Ollama.\n",
    "\n",
    "## 📋 Contenido\n",
    "1. Setup e imports\n",
    "2. Pipeline básico\n",
    "3. Pipeline con filtros y transformaciones\n",
    "4. Pipeline robusto con manejo de errores\n",
    "5. Análisis de resultados"
   ]
  },
  {
   "cell_type": "markdown",
   "metadata": {},
   "source": [
    "## 1. Setup e Imports"
   ]
  },
  {
   "cell_type": "code",
   "execution_count": null,
   "metadata": {},
   "outputs": [],
   "source": [
    "import pandas as pd\n",
    "import sys\n",
    "from pathlib import Path\n",
    "\n",
    "# Agregar el directorio padre al path para imports\n",
    "sys.path.insert(0, str(Path.cwd().parent))\n",
    "\n",
    "from simple_pipeline import SimplePipeline\n",
    "from simple_pipeline.steps import (\n",
    "    LoadDataFrame,\n",
    "    OllamaLLMStep,\n",
    "    RobustOllamaStep,\n",
    "    FilterRows,\n",
    "    SortRows,\n",
    "    SampleRows,\n",
    "    AddColumn,\n",
    "    KeepColumns\n",
    ")\n",
    "\n",
    "print(\"✅ Imports completados\")"
   ]
  },
  {
   "cell_type": "markdown",
   "metadata": {},
   "source": [
    "## 2. Pipeline Básico\n",
    "\n",
    "Empezamos con un pipeline simple que genera explicaciones de conceptos."
   ]
  },
  {
   "cell_type": "code",
   "execution_count": null,
   "metadata": {},
   "outputs": [],
   "source": [
    "# Datos de entrada\n",
    "concepts = pd.DataFrame({\n",
    "    'concept': ['Machine Learning', 'Blockchain', 'Quantum Computing'],\n",
    "    'audience': ['beginner', 'intermediate', 'advanced']\n",
    "})\n",
    "\n",
    "print(\"📊 Datos de entrada:\")\n",
    "display(concepts)"
   ]
  },
  {
   "cell_type": "code",
   "execution_count": null,
   "metadata": {},
   "outputs": [],
   "source": [
    "# Crear pipeline\n",
    "pipeline = SimplePipeline(\n",
    "    name=\"basic-demo\",\n",
    "    description=\"Demo básico de explicaciones\"\n",
    ")\n",
    "\n",
    "# Agregar steps\n",
    "pipeline.add_step(\n",
    "    LoadDataFrame(name=\"load\", df=concepts)\n",
    ")\n",
    "\n",
    "pipeline.add_step(\n",
    "    OllamaLLMStep(\n",
    "        name=\"explain\",\n",
    "        model_name=\"llama3.2\",\n",
    "        prompt_column=\"concept\",\n",
    "        output_column=\"explanation\",\n",
    "        prompt_template=lambda row: f\"Explain {row['concept']} to a {row['audience']} audience in 2-3 sentences.\",\n",
    "        system_prompt=\"You are a clear, concise technical educator.\",\n",
    "        batch_size=3,\n",
    "        generation_kwargs={\"temperature\": 0.7, \"num_predict\": 100}\n",
    "    )\n",
    ")\n",
    "\n",
    "print(\"✅ Pipeline configurado\")"
   ]
  },
  {
   "cell_type": "code",
   "execution_count": null,
   "metadata": {},
   "outputs": [],
   "source": [
    "# Ejecutar pipeline\n",
    "result = pipeline.run(use_cache=True)\n",
    "\n",
    "print(\"\\n📊 Resultados:\")\n",
    "display(result)"
   ]
  },
  {
   "cell_type": "markdown",
   "metadata": {},
   "source": [
    "## 3. Pipeline con Filtros y Transformaciones\n",
    "\n",
    "Ahora vamos a crear un pipeline más complejo con varios steps de transformación."
   ]
  },
  {
   "cell_type": "code",
   "execution_count": null,
   "metadata": {},
   "outputs": [],
   "source": [
    "# Dataset más grande\n",
    "topics_data = pd.DataFrame({\n",
    "    'topic': [\n",
    "        'Python', 'JavaScript', 'Rust', 'Go', 'Java',\n",
    "        'C++', 'Ruby', 'Swift', 'Kotlin', 'TypeScript'\n",
    "    ],\n",
    "    'type': [\n",
    "        'interpreted', 'interpreted', 'compiled', 'compiled', 'compiled',\n",
    "        'compiled', 'interpreted', 'compiled', 'compiled', 'interpreted'\n",
    "    ],\n",
    "    'popularity': [95, 85, 75, 80, 90, 70, 60, 65, 70, 85]\n",
    "})\n",
    "\n",
    "print(\"📊 Dataset inicial:\")\n",
    "display(topics_data)"
   ]
  },
  {
   "cell_type": "code",
   "execution_count": null,
   "metadata": {},
   "outputs": [],
   "source": [
    "# Pipeline con transformaciones\n",
    "transform_pipeline = SimplePipeline(\n",
    "    name=\"transform-demo\",\n",
    "    description=\"Demo con filtros y transformaciones\"\n",
    ")\n",
    "\n",
    "# Step 1: Cargar datos\n",
    "transform_pipeline.add_step(\n",
    "    LoadDataFrame(name=\"load\", df=topics_data)\n",
    ")\n",
    "\n",
    "# Step 2: Filtrar solo lenguajes populares (> 75)\n",
    "transform_pipeline.add_step(\n",
    "    FilterRows(\n",
    "        name=\"filter_popular\",\n",
    "        filter_column=\"popularity\",\n",
    "        condition=\"> 75\"\n",
    "    )\n",
    ")\n",
    "\n",
    "# Step 3: Ordenar por popularidad\n",
    "transform_pipeline.add_step(\n",
    "    SortRows(\n",
    "        name=\"sort\",\n",
    "        by=\"popularity\",\n",
    "        ascending=False\n",
    "    )\n",
    ")\n",
    "\n",
    "# Step 4: Tomar top 3\n",
    "transform_pipeline.add_step(\n",
    "    SampleRows(\n",
    "        name=\"top_3\",\n",
    "        n=3\n",
    "    )\n",
    ")\n",
    "\n",
    "# Step 5: Generar características\n",
    "transform_pipeline.add_step(\n",
    "    OllamaLLMStep(\n",
    "        name=\"generate_features\",\n",
    "        model_name=\"llama3.2\",\n",
    "        prompt_column=\"topic\",\n",
    "        output_column=\"key_features\",\n",
    "        prompt_template=lambda row: f\"List 3 key features of {row['topic']} programming language. Be concise.\",\n",
    "        batch_size=3\n",
    "    )\n",
    ")\n",
    "\n",
    "print(\"✅ Pipeline de transformación configurado\")"
   ]
  },
  {
   "cell_type": "code",
   "execution_count": null,
   "metadata": {},
   "outputs": [],
   "source": [
    "# Ejecutar\n",
    "result_transform = transform_pipeline.run(use_cache=True)\n",
    "\n",
    "print(\"\\n📊 Top 3 lenguajes más populares con features:\")\n",
    "display(result_transform)"
   ]
  },
  {
   "cell_type": "markdown",
   "metadata": {},
   "source": [
    "## 4. Pipeline Robusto con Manejo de Errores\n",
    "\n",
    "Usamos `RobustOllamaStep` para manejar errores de forma elegante."
   ]
  },
  {
   "cell_type": "code",
   "execution_count": null,
   "metadata": {},
   "outputs": [],
   "source": [
    "# Dataset que puede causar problemas\n",
    "tricky_data = pd.DataFrame({\n",
    "    'task': [\n",
    "        'Write a function to sort a list',\n",
    "        'Explain recursion',\n",
    "        'This is an intentionally bad prompt ###@@@',  # Puede fallar\n",
    "        'Implement binary search',\n",
    "    ]\n",
    "})\n",
    "\n",
    "display(tricky_data)"
   ]
  },
  {
   "cell_type": "code",
   "execution_count": null,
   "metadata": {},
   "outputs": [],
   "source": [
    "# Pipeline robusto\n",
    "robust_pipeline = SimplePipeline(\n",
    "    name=\"robust-demo\",\n",
    "    description=\"Demo de manejo robusto de errores\"\n",
    ")\n",
    "\n",
    "robust_pipeline.add_step(\n",
    "    LoadDataFrame(name=\"load\", df=tricky_data)\n",
    ")\n",
    "\n",
    "robust_pipeline.add_step(\n",
    "    RobustOllamaStep(\n",
    "        name=\"generate_code\",\n",
    "        model_name=\"llama3.2\",\n",
    "        prompt_column=\"task\",\n",
    "        output_column=\"code\",\n",
    "        system_prompt=\"You are a coding assistant. Generate Python code.\",\n",
    "        batch_size=2,\n",
    "        max_retries=2,\n",
    "        save_failures=True,\n",
    "        continue_on_error=True  # Continuar aunque haya errores\n",
    "    )\n",
    ")\n",
    "\n",
    "print(\"✅ Pipeline robusto configurado\")"
   ]
  },
  {
   "cell_type": "code",
   "execution_count": null,
   "metadata": {},
   "outputs": [],
   "source": [
    "# Ejecutar\n",
    "result_robust = robust_pipeline.run(use_cache=True)\n",
    "\n",
    "print(\"\\n📊 Resultados (incluyendo errores):\")\n",
    "display(result_robust[['task', 'status', 'error']])"
   ]
  },
  {
   "cell_type": "code",
   "execution_count": null,
   "metadata": {},
   "outputs": [],
   "source": [
    "# Ver solo resultados exitosos\n",
    "successful = result_robust[result_robust['status'] == 'success']\n",
    "print(f\"\\n✅ {len(successful)} de {len(result_robust)} fueron exitosos\")\n",
    "display(successful[['task', 'code']])"
   ]
  },
  {
   "cell_type": "markdown",
   "metadata": {},
   "source": [
    "## 5. Análisis de Resultados\n",
    "\n",
    "Análisis más detallado de los resultados generados."
   ]
  },
  {
   "cell_type": "code",
   "execution_count": null,
   "metadata": {},
   "outputs": [],
   "source": [
    "# Estadísticas del pipeline básico\n",
    "print(\"📊 Análisis del Pipeline Básico:\")\n",
    "print(f\"Total de filas: {len(result)}\")\n",
    "print(f\"Columnas: {list(result.columns)}\")\n",
    "\n",
    "# Longitud de explicaciones\n",
    "result['explanation_length'] = result['explanation'].str.len()\n",
    "print(f\"\\nLongitud promedio de explicaciones: {result['explanation_length'].mean():.0f} caracteres\")\n",
    "\n",
    "# Visualizar\n",
    "import matplotlib.pyplot as plt\n",
    "\n",
    "result['explanation_length'].plot(kind='bar', title='Longitud de Explicaciones')\n",
    "plt.ylabel('Caracteres')\n",
    "plt.xlabel('Concepto')\n",
    "plt.xticks(range(len(result)), result['concept'], rotation=45)\n",
    "plt.tight_layout()\n",
    "plt.show()"
   ]
  },
  {
   "cell_type": "markdown",
   "metadata": {},
   "source": [
    "## 🎯 Conclusión\n",
    "\n",
    "Has aprendido a:\n",
    "- ✅ Crear pipelines básicos con SimplePipeline\n",
    "- ✅ Usar filtros y transformaciones\n",
    "- ✅ Manejar errores robustamente\n",
    "- ✅ Analizar resultados\n",
    "\n",
    "### 📚 Próximos pasos:\n",
    "1. Experimenta con diferentes modelos de Ollama\n",
    "2. Crea tus propios steps personalizados\n",
    "3. Prueba con datasets más grandes\n",
    "4. Explora el caching para acelerar iteraciones"
   ]
  },
  {
   "cell_type": "markdown",
   "metadata": {},
   "source": [
    "## 🧹 Limpieza\n",
    "\n",
    "Opcional: limpiar cache de los pipelines"
   ]
  },
  {
   "cell_type": "code",
   "execution_count": null,
   "metadata": {},
   "outputs": [],
   "source": [
    "# Descomentar para limpiar cache\n",
    "# pipeline.clear_cache()\n",
    "# transform_pipeline.clear_cache()\n",
    "# robust_pipeline.clear_cache()\n",
    "# print(\"✅ Cache limpiada\")"
   ]
  }
 ],
 "metadata": {
  "kernelspec": {
   "display_name": "Python 3",
   "language": "python",
   "name": "python3"
  },
  "language_info": {
   "codemirror_mode": {
    "name": "ipython",
    "version": 3
   },
   "file_extension": ".py",
   "mimetype": "text/x-python",
   "name": "python",
   "nbconvert_exporter": "python",
   "pygments_lexer": "ipython3",
   "version": "3.11.0"
  }
 },
 "nbformat": 4,
 "nbformat_minor": 4
}
