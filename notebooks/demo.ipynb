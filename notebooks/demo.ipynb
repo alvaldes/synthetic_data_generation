{
 "cells": [
  {
   "cell_type": "markdown",
   "metadata": {},
   "source": [
    "# 🚀 Simple Pipeline - Interactive Demo\n",
    "\n",
    "Este notebook muestra cómo usar Simple Pipeline para crear datasets sintéticos con Ollama.\n",
    "\n",
    "## 📋 Contenido\n",
    "1. Setup e imports\n",
    "2. Pipeline básico\n",
    "3. Pipeline con filtros y transformaciones\n",
    "4. Pipeline robusto con manejo de errores\n",
    "5. Análisis de resultados"
   ]
  },
  {
   "cell_type": "markdown",
   "metadata": {},
   "source": [
    "## 1. Setup e Imports"
   ]
  },
  {
   "cell_type": "code",
   "execution_count": 30,
   "metadata": {},
   "outputs": [
    {
     "name": "stdout",
     "output_type": "stream",
     "text": [
      "✅ Imports completados\n"
     ]
    }
   ],
   "source": [
    "import pandas as pd\n",
    "import sys\n",
    "from pathlib import Path\n",
    "\n",
    "# Agregar el directorio padre al path para imports\n",
    "sys.path.insert(0, str(Path.cwd().parent))\n",
    "\n",
    "from simple_pipeline import SimplePipeline\n",
    "from simple_pipeline.steps import (\n",
    "    LoadDataFrame,\n",
    "    OllamaLLMStep,\n",
    "    RobustOllamaStep,\n",
    "    FilterRows,\n",
    "    SortRows,\n",
    "    SampleRows,\n",
    "    AddColumn,\n",
    "    KeepColumns\n",
    ")\n",
    "\n",
    "print(\"✅ Imports completados\")"
   ]
  },
  {
   "cell_type": "markdown",
   "metadata": {},
   "source": [
    "## 2. Pipeline Básico\n",
    "\n",
    "Empezamos con un pipeline simple que genera explicaciones de conceptos."
   ]
  },
  {
   "cell_type": "code",
   "execution_count": 31,
   "metadata": {},
   "outputs": [
    {
     "name": "stdout",
     "output_type": "stream",
     "text": [
      "📊 Datos de entrada:\n"
     ]
    },
    {
     "data": {
      "application/vnd.microsoft.datawrangler.viewer.v0+json": {
       "columns": [
        {
         "name": "index",
         "rawType": "int64",
         "type": "integer"
        },
        {
         "name": "concept",
         "rawType": "object",
         "type": "string"
        },
        {
         "name": "audience",
         "rawType": "object",
         "type": "string"
        }
       ],
       "ref": "520b738f-dcd8-431a-aed2-6f8b51d2b705",
       "rows": [
        [
         "0",
         "Machine Learning",
         "beginner"
        ],
        [
         "1",
         "Blockchain",
         "intermediate"
        ],
        [
         "2",
         "Quantum Computing",
         "advanced"
        ]
       ],
       "shape": {
        "columns": 2,
        "rows": 3
       }
      },
      "text/html": [
       "<div>\n",
       "<style scoped>\n",
       "    .dataframe tbody tr th:only-of-type {\n",
       "        vertical-align: middle;\n",
       "    }\n",
       "\n",
       "    .dataframe tbody tr th {\n",
       "        vertical-align: top;\n",
       "    }\n",
       "\n",
       "    .dataframe thead th {\n",
       "        text-align: right;\n",
       "    }\n",
       "</style>\n",
       "<table border=\"1\" class=\"dataframe\">\n",
       "  <thead>\n",
       "    <tr style=\"text-align: right;\">\n",
       "      <th></th>\n",
       "      <th>concept</th>\n",
       "      <th>audience</th>\n",
       "    </tr>\n",
       "  </thead>\n",
       "  <tbody>\n",
       "    <tr>\n",
       "      <th>0</th>\n",
       "      <td>Machine Learning</td>\n",
       "      <td>beginner</td>\n",
       "    </tr>\n",
       "    <tr>\n",
       "      <th>1</th>\n",
       "      <td>Blockchain</td>\n",
       "      <td>intermediate</td>\n",
       "    </tr>\n",
       "    <tr>\n",
       "      <th>2</th>\n",
       "      <td>Quantum Computing</td>\n",
       "      <td>advanced</td>\n",
       "    </tr>\n",
       "  </tbody>\n",
       "</table>\n",
       "</div>"
      ],
      "text/plain": [
       "             concept      audience\n",
       "0   Machine Learning      beginner\n",
       "1         Blockchain  intermediate\n",
       "2  Quantum Computing      advanced"
      ]
     },
     "metadata": {},
     "output_type": "display_data"
    }
   ],
   "source": [
    "# Datos de entrada\n",
    "concepts = pd.DataFrame({\n",
    "    'concept': ['Machine Learning', 'Blockchain', 'Quantum Computing'],\n",
    "    'audience': ['beginner', 'intermediate', 'advanced']\n",
    "})\n",
    "\n",
    "print(\"📊 Datos de entrada:\")\n",
    "display(concepts)"
   ]
  },
  {
   "cell_type": "code",
   "execution_count": 37,
   "metadata": {},
   "outputs": [
    {
     "name": "stderr",
     "output_type": "stream",
     "text": [
      "2025-10-16 16:15:32 - SimplePipeline.basic-demo - INFO - Added step: load\n",
      "2025-10-16 16:15:32 - SimplePipeline.basic-demo - INFO - Added step: explain\n"
     ]
    },
    {
     "name": "stdout",
     "output_type": "stream",
     "text": [
      "✅ Pipeline configurado\n"
     ]
    }
   ],
   "source": [
    "# Crear pipeline\n",
    "pipeline = SimplePipeline(\n",
    "    name=\"basic-demo\",\n",
    "    description=\"Demo básico de explicaciones\",\n",
    "    log_level=\"DEBUG\"\n",
    ")\n",
    "\n",
    "# Agregar steps\n",
    "pipeline.add_step(\n",
    "    LoadDataFrame(name=\"load\", df=concepts)\n",
    ")\n",
    "\n",
    "pipeline.add_step(\n",
    "    OllamaLLMStep(\n",
    "        name=\"explain\",\n",
    "        model_name=\"deepseek-r1:8b\",\n",
    "        prompt_column=\"concept\",\n",
    "        output_column=\"explanation\",\n",
    "        prompt_template=lambda row: f\"Explain {row['concept']} to a {row['audience']} audience in 2-3 sentences.\",\n",
    "        system_prompt=\"You are a clear, concise technical educator.\",\n",
    "        batch_size=3,\n",
    "        generation_kwargs={\"temperature\": 0.7, \"num_predict\": 100}\n",
    "    )\n",
    ")\n",
    "\n",
    "print(\"✅ Pipeline configurado\")"
   ]
  },
  {
   "cell_type": "code",
   "execution_count": 38,
   "metadata": {},
   "outputs": [
    {
     "name": "stderr",
     "output_type": "stream",
     "text": [
      "2025-10-16 16:15:38 - SimplePipeline.basic-demo - INFO - Starting pipeline: basic-demo\n",
      "2025-10-16 16:15:38 - SimplePipeline.basic-demo - INFO - Number of steps: 2\n",
      "2025-10-16 16:15:38 - SimplePipeline.basic-demo - INFO - Executing generator step: load\n",
      "2025-10-16 16:15:38 - SimplePipeline.basic-demo - INFO - Executing step: explain\n",
      "Processing explain: 100%|██████████| 3/3 [00:16<00:00,  5.35s/it]\n",
      "2025-10-16 16:15:54 - SimplePipeline.basic-demo - INFO -   ✓ Complete (3 rows, 4 columns)\n",
      "2025-10-16 16:15:54 - SimplePipeline.basic-demo - INFO - Pipeline execution complete!\n"
     ]
    },
    {
     "name": "stdout",
     "output_type": "stream",
     "text": [
      "\n",
      "📊 Resultados:\n"
     ]
    },
    {
     "data": {
      "application/vnd.microsoft.datawrangler.viewer.v0+json": {
       "columns": [
        {
         "name": "index",
         "rawType": "int64",
         "type": "integer"
        },
        {
         "name": "concept",
         "rawType": "object",
         "type": "string"
        },
        {
         "name": "audience",
         "rawType": "object",
         "type": "string"
        },
        {
         "name": "explanation",
         "rawType": "object",
         "type": "string"
        },
        {
         "name": "model_name",
         "rawType": "object",
         "type": "string"
        }
       ],
       "ref": "f622cbb8-4d4f-43c6-986b-2f708a5fa427",
       "rows": [
        [
         "0",
         "Machine Learning",
         "beginner",
         "<think>\nOkay, I need to recall the user's query is asking me to explain machine learning concisely to a beginner in three sentences. They said \"Explain machine learning to a beginner2 sentences\" probably means \"explain machine learning in three sentences\" and audience beginner so target audience. So I need to explain machine learning in simple terms for beginners in three sentences.\nKey concept is learning system that learns from data patterns improve performance.\nI can think about defining learning as computer that way machines",
         "deepseek-r1:8b"
        ],
        [
         "1",
         "Blockchain",
         "intermediate",
         "<think>\nThe user is asking me to explain blockchain to an intermediate audience in three sentences, so I need to keep it clear and technical but not too simple. User wants deep down to educate them basic idea in few words not overwhelm them with details. Key is blockchain is distributed ledger tech peer to store data shared verifiable trustless centralized control. Start with three sentences I can explain what it is what it how how it works then why. First sentence define it as tech shared digital database. Second",
         "deepseek-r1:8b"
        ],
        [
         "2",
         "Quantum Computing",
         "advanced",
         "<think>\nOkay, let's tackle this user wants a concise explanation for quantum computing for a quantum audience. They're probably technically versed audience, so need to skip basics. Start with core principles, superposition entanglement superposition, then correlation. Add decoherence. Keep tight but not too dense. Make it punchy. Three sentences only.\n</think>\n</think>\nQuantum computing is a computational science harnesses superposition and entanglement and correlation, enabling qubits for exponentially more",
         "deepseek-r1:8b"
        ]
       ],
       "shape": {
        "columns": 4,
        "rows": 3
       }
      },
      "text/html": [
       "<div>\n",
       "<style scoped>\n",
       "    .dataframe tbody tr th:only-of-type {\n",
       "        vertical-align: middle;\n",
       "    }\n",
       "\n",
       "    .dataframe tbody tr th {\n",
       "        vertical-align: top;\n",
       "    }\n",
       "\n",
       "    .dataframe thead th {\n",
       "        text-align: right;\n",
       "    }\n",
       "</style>\n",
       "<table border=\"1\" class=\"dataframe\">\n",
       "  <thead>\n",
       "    <tr style=\"text-align: right;\">\n",
       "      <th></th>\n",
       "      <th>concept</th>\n",
       "      <th>audience</th>\n",
       "      <th>explanation</th>\n",
       "      <th>model_name</th>\n",
       "    </tr>\n",
       "  </thead>\n",
       "  <tbody>\n",
       "    <tr>\n",
       "      <th>0</th>\n",
       "      <td>Machine Learning</td>\n",
       "      <td>beginner</td>\n",
       "      <td>&lt;think&gt;\\nOkay, I need to recall the user's que...</td>\n",
       "      <td>deepseek-r1:8b</td>\n",
       "    </tr>\n",
       "    <tr>\n",
       "      <th>1</th>\n",
       "      <td>Blockchain</td>\n",
       "      <td>intermediate</td>\n",
       "      <td>&lt;think&gt;\\nThe user is asking me to explain bloc...</td>\n",
       "      <td>deepseek-r1:8b</td>\n",
       "    </tr>\n",
       "    <tr>\n",
       "      <th>2</th>\n",
       "      <td>Quantum Computing</td>\n",
       "      <td>advanced</td>\n",
       "      <td>&lt;think&gt;\\nOkay, let's tackle this user wants a ...</td>\n",
       "      <td>deepseek-r1:8b</td>\n",
       "    </tr>\n",
       "  </tbody>\n",
       "</table>\n",
       "</div>"
      ],
      "text/plain": [
       "             concept      audience  \\\n",
       "0   Machine Learning      beginner   \n",
       "1         Blockchain  intermediate   \n",
       "2  Quantum Computing      advanced   \n",
       "\n",
       "                                         explanation      model_name  \n",
       "0  <think>\\nOkay, I need to recall the user's que...  deepseek-r1:8b  \n",
       "1  <think>\\nThe user is asking me to explain bloc...  deepseek-r1:8b  \n",
       "2  <think>\\nOkay, let's tackle this user wants a ...  deepseek-r1:8b  "
      ]
     },
     "metadata": {},
     "output_type": "display_data"
    }
   ],
   "source": [
    "# Ejecutar pipeline\n",
    "result = pipeline.run(use_cache=False)\n",
    "\n",
    "print(\"\\n📊 Resultados:\")\n",
    "display(result)"
   ]
  },
  {
   "cell_type": "markdown",
   "metadata": {},
   "source": [
    "## 3. Pipeline con Filtros y Transformaciones\n",
    "\n",
    "Ahora vamos a crear un pipeline más complejo con varios steps de transformación."
   ]
  },
  {
   "cell_type": "code",
   "execution_count": 18,
   "metadata": {},
   "outputs": [
    {
     "name": "stdout",
     "output_type": "stream",
     "text": [
      "📊 Dataset inicial:\n"
     ]
    },
    {
     "data": {
      "application/vnd.microsoft.datawrangler.viewer.v0+json": {
       "columns": [
        {
         "name": "index",
         "rawType": "int64",
         "type": "integer"
        },
        {
         "name": "topic",
         "rawType": "object",
         "type": "string"
        },
        {
         "name": "type",
         "rawType": "object",
         "type": "string"
        },
        {
         "name": "popularity",
         "rawType": "int64",
         "type": "integer"
        }
       ],
       "ref": "cb7e865b-727d-49f7-8d8c-1864a5473b4d",
       "rows": [
        [
         "0",
         "Python",
         "interpreted",
         "95"
        ],
        [
         "1",
         "JavaScript",
         "interpreted",
         "85"
        ],
        [
         "2",
         "Rust",
         "compiled",
         "75"
        ],
        [
         "3",
         "Go",
         "compiled",
         "80"
        ],
        [
         "4",
         "Java",
         "compiled",
         "90"
        ],
        [
         "5",
         "C++",
         "compiled",
         "70"
        ],
        [
         "6",
         "Ruby",
         "interpreted",
         "60"
        ],
        [
         "7",
         "Swift",
         "compiled",
         "65"
        ],
        [
         "8",
         "Kotlin",
         "compiled",
         "70"
        ],
        [
         "9",
         "TypeScript",
         "interpreted",
         "85"
        ]
       ],
       "shape": {
        "columns": 3,
        "rows": 10
       }
      },
      "text/html": [
       "<div>\n",
       "<style scoped>\n",
       "    .dataframe tbody tr th:only-of-type {\n",
       "        vertical-align: middle;\n",
       "    }\n",
       "\n",
       "    .dataframe tbody tr th {\n",
       "        vertical-align: top;\n",
       "    }\n",
       "\n",
       "    .dataframe thead th {\n",
       "        text-align: right;\n",
       "    }\n",
       "</style>\n",
       "<table border=\"1\" class=\"dataframe\">\n",
       "  <thead>\n",
       "    <tr style=\"text-align: right;\">\n",
       "      <th></th>\n",
       "      <th>topic</th>\n",
       "      <th>type</th>\n",
       "      <th>popularity</th>\n",
       "    </tr>\n",
       "  </thead>\n",
       "  <tbody>\n",
       "    <tr>\n",
       "      <th>0</th>\n",
       "      <td>Python</td>\n",
       "      <td>interpreted</td>\n",
       "      <td>95</td>\n",
       "    </tr>\n",
       "    <tr>\n",
       "      <th>1</th>\n",
       "      <td>JavaScript</td>\n",
       "      <td>interpreted</td>\n",
       "      <td>85</td>\n",
       "    </tr>\n",
       "    <tr>\n",
       "      <th>2</th>\n",
       "      <td>Rust</td>\n",
       "      <td>compiled</td>\n",
       "      <td>75</td>\n",
       "    </tr>\n",
       "    <tr>\n",
       "      <th>3</th>\n",
       "      <td>Go</td>\n",
       "      <td>compiled</td>\n",
       "      <td>80</td>\n",
       "    </tr>\n",
       "    <tr>\n",
       "      <th>4</th>\n",
       "      <td>Java</td>\n",
       "      <td>compiled</td>\n",
       "      <td>90</td>\n",
       "    </tr>\n",
       "    <tr>\n",
       "      <th>5</th>\n",
       "      <td>C++</td>\n",
       "      <td>compiled</td>\n",
       "      <td>70</td>\n",
       "    </tr>\n",
       "    <tr>\n",
       "      <th>6</th>\n",
       "      <td>Ruby</td>\n",
       "      <td>interpreted</td>\n",
       "      <td>60</td>\n",
       "    </tr>\n",
       "    <tr>\n",
       "      <th>7</th>\n",
       "      <td>Swift</td>\n",
       "      <td>compiled</td>\n",
       "      <td>65</td>\n",
       "    </tr>\n",
       "    <tr>\n",
       "      <th>8</th>\n",
       "      <td>Kotlin</td>\n",
       "      <td>compiled</td>\n",
       "      <td>70</td>\n",
       "    </tr>\n",
       "    <tr>\n",
       "      <th>9</th>\n",
       "      <td>TypeScript</td>\n",
       "      <td>interpreted</td>\n",
       "      <td>85</td>\n",
       "    </tr>\n",
       "  </tbody>\n",
       "</table>\n",
       "</div>"
      ],
      "text/plain": [
       "        topic         type  popularity\n",
       "0      Python  interpreted          95\n",
       "1  JavaScript  interpreted          85\n",
       "2        Rust     compiled          75\n",
       "3          Go     compiled          80\n",
       "4        Java     compiled          90\n",
       "5         C++     compiled          70\n",
       "6        Ruby  interpreted          60\n",
       "7       Swift     compiled          65\n",
       "8      Kotlin     compiled          70\n",
       "9  TypeScript  interpreted          85"
      ]
     },
     "metadata": {},
     "output_type": "display_data"
    }
   ],
   "source": [
    "# Dataset más grande\n",
    "topics_data = pd.DataFrame({\n",
    "    'topic': [\n",
    "        'Python', 'JavaScript', 'Rust', 'Go', 'Java',\n",
    "        'C++', 'Ruby', 'Swift', 'Kotlin', 'TypeScript'\n",
    "    ],\n",
    "    'type': [\n",
    "        'interpreted', 'interpreted', 'compiled', 'compiled', 'compiled',\n",
    "        'compiled', 'interpreted', 'compiled', 'compiled', 'interpreted'\n",
    "    ],\n",
    "    'popularity': [95, 85, 75, 80, 90, 70, 60, 65, 70, 85]\n",
    "})\n",
    "\n",
    "print(\"📊 Dataset inicial:\")\n",
    "display(topics_data)"
   ]
  },
  {
   "cell_type": "code",
   "execution_count": 19,
   "metadata": {},
   "outputs": [
    {
     "name": "stderr",
     "output_type": "stream",
     "text": [
      "2025-10-16 15:10:22 - SimplePipeline.transform-demo - INFO - Added step: load\n",
      "2025-10-16 15:10:22 - SimplePipeline.transform-demo - INFO - Added step: filter_popular\n",
      "2025-10-16 15:10:22 - SimplePipeline.transform-demo - INFO - Added step: sort\n",
      "2025-10-16 15:10:22 - SimplePipeline.transform-demo - INFO - Added step: top_3\n",
      "2025-10-16 15:10:22 - SimplePipeline.transform-demo - INFO - Added step: generate_features\n"
     ]
    },
    {
     "name": "stdout",
     "output_type": "stream",
     "text": [
      "✅ Pipeline de transformación configurado\n"
     ]
    }
   ],
   "source": [
    "# Pipeline con transformaciones\n",
    "transform_pipeline = SimplePipeline(\n",
    "    name=\"transform-demo\",\n",
    "    description=\"Demo con filtros y transformaciones\"\n",
    ")\n",
    "\n",
    "# Step 1: Cargar datos\n",
    "transform_pipeline.add_step(\n",
    "    LoadDataFrame(name=\"load\", df=topics_data)\n",
    ")\n",
    "\n",
    "# Step 2: Filtrar solo lenguajes populares (> 75)\n",
    "transform_pipeline.add_step(\n",
    "    FilterRows(\n",
    "        name=\"filter_popular\",\n",
    "        filter_column=\"popularity\",\n",
    "        condition=\"> 75\"\n",
    "    )\n",
    ")\n",
    "\n",
    "# Step 3: Ordenar por popularidad\n",
    "transform_pipeline.add_step(\n",
    "    SortRows(\n",
    "        name=\"sort\",\n",
    "        by=\"popularity\",\n",
    "        ascending=False\n",
    "    )\n",
    ")\n",
    "\n",
    "# Step 4: Tomar top 3\n",
    "transform_pipeline.add_step(\n",
    "    SampleRows(\n",
    "        name=\"top_3\",\n",
    "        n=3\n",
    "    )\n",
    ")\n",
    "\n",
    "# Step 5: Generar características\n",
    "transform_pipeline.add_step(\n",
    "    OllamaLLMStep(\n",
    "        name=\"generate_features\",\n",
    "        model_name=\"deepseek-r1:8b\",\n",
    "        prompt_column=\"topic\",\n",
    "        output_column=\"key_features\",\n",
    "        prompt_template=lambda row: f\"List 3 key features of {row['topic']} programming language. Be concise.\",\n",
    "        batch_size=3\n",
    "    )\n",
    ")\n",
    "\n",
    "print(\"✅ Pipeline de transformación configurado\")"
   ]
  },
  {
   "cell_type": "code",
   "execution_count": 26,
   "metadata": {},
   "outputs": [
    {
     "name": "stderr",
     "output_type": "stream",
     "text": [
      "2025-10-16 15:12:13 - SimplePipeline.transform-demo - INFO - Starting pipeline: transform-demo\n",
      "2025-10-16 15:12:13 - SimplePipeline.transform-demo - INFO - Number of steps: 5\n",
      "2025-10-16 15:12:13 - SimplePipeline.transform-demo - INFO - Executing generator step: load\n",
      "2025-10-16 15:12:13 - SimplePipeline.transform-demo - INFO - Executing step: filter_popular\n",
      "2025-10-16 15:12:13 - SimplePipeline.transform-demo - INFO -   ✓ Complete (5 rows, 3 columns)\n",
      "2025-10-16 15:12:13 - SimplePipeline.transform-demo - INFO - Executing step: sort\n",
      "2025-10-16 15:12:13 - SimplePipeline.transform-demo - INFO -   ✓ Complete (5 rows, 3 columns)\n",
      "2025-10-16 15:12:13 - SimplePipeline.transform-demo - INFO - Executing step: top_3\n",
      "2025-10-16 15:12:13 - SimplePipeline.transform-demo - INFO -   ✓ Complete (3 rows, 3 columns)\n",
      "2025-10-16 15:12:13 - SimplePipeline.transform-demo - INFO - Executing step: generate_features\n"
     ]
    },
    {
     "name": "stdout",
     "output_type": "stream",
     "text": [
      "  Filtered 5 rows (10 → 5)\n",
      "  Sorted by: popularity\n",
      "  Sampled 3 rows from 5 (60.0%)\n"
     ]
    },
    {
     "name": "stderr",
     "output_type": "stream",
     "text": [
      "Processing generate_features: 100%|██████████| 3/3 [07:33<00:00, 151.04s/it]\n",
      "2025-10-16 15:19:46 - SimplePipeline.transform-demo - INFO -   ✓ Complete (3 rows, 5 columns)\n",
      "2025-10-16 15:19:46 - SimplePipeline.transform-demo - INFO - Pipeline execution complete!\n"
     ]
    },
    {
     "name": "stdout",
     "output_type": "stream",
     "text": [
      "\n",
      "📊 Top 3 lenguajes más populares con features:\n"
     ]
    },
    {
     "data": {
      "application/vnd.microsoft.datawrangler.viewer.v0+json": {
       "columns": [
        {
         "name": "index",
         "rawType": "int64",
         "type": "integer"
        },
        {
         "name": "topic",
         "rawType": "object",
         "type": "string"
        },
        {
         "name": "type",
         "rawType": "object",
         "type": "string"
        },
        {
         "name": "popularity",
         "rawType": "int64",
         "type": "integer"
        },
        {
         "name": "key_features",
         "rawType": "object",
         "type": "string"
        },
        {
         "name": "model_name",
         "rawType": "object",
         "type": "string"
        }
       ],
       "ref": "fa52ae64-a2da-4a08-a5c8-617825533c26",
       "rows": [
        [
         "0",
         "Python",
         "interpreted",
         "95",
         "<think>\nOkay, let me think about this query: User asked for \"list 3 key features of Python programming\" – probably means Python language, not other things. Short list. Maybe typo. User wants 3 short list key features of Python language. Need respond with concisely.\n\nWhat are Python known about Python key features? Easy to learn, read, fast, batteries included, good, community. Community. Also strong. But user said concise, so keep it brief.\n\nUser probably beginner or just wants basics. Maybe list3 things. List 3 or 3 key points.\n\nPython features. Common ones are simple: Readability, beginner friendly, versatile, productive, community. Community. Also performance. And maybe something else.\n\nPython has fast execution time, but not always. Wait, but interpreted. Other key is simplicity.\n\nStandard ways: clean syntax, modules, easy, community, dynamic typing. But static typing. Wait.\n\nThink: What user might be thinking? Maybe list for learning Python for start. So readability, speed, libraries, community, simple.\n\nKey features: 3: Easy learn, libraries, read, community, fast, dynamic. But static typing dynamic? Wait.\n\nPython has dynamic typing. And OOPs. Maybe: dynamic typing, but.\n\nPython key features: Easy learn, community, packages, dynamic, OOPs.\n\nI.\n\nList: Community, packages, simple, typing, easy, packages.\n\nStandard: standard library.\n\nPerhaps: easy, O, packages, community, O.\n\nStandard library, community, easy.\n\nPython key: simple, easy, standard library, O.\n\nStandard.\n\nCommunity, simple, easy, O, community.\n\nEasy, packages.\n\nPython easy, standard.\n\nCommon: easy, packages.\n\nPython easy.\n\nPython easy, packages, standard.\n\nCommunity, packages.\n\nPython easy.\n\nCommunity, packages.\n\nPython easy.\n\nPython easy.\n\nTyping: dynamic, easy.\n\nBut typing.\n\nThink: Python key points: simple, readable code, simple, O, packages, community, easy, dynamic.\n\nBut dynamic. Maybe: simple code, packages, typing, typing, community, O.\n\nI think.\n\nStandard: typing, dynamic typing.\n\nList: dynamic, typing, packages, standard.\n\nDynamic, typing.\n\nBut dynamic.\n\nPython key: typing is one feature.\n\nCommunity: dynamic.\n\nPerhaps: easy, simple, readable, free, dynamic, O.\n\nSimple, packages, community.\n\nI think: packages, typing.\n\nReadability, packages.\n\nList: readability.\n\nReadability, packages.\n\nCommunity, readability.\n\nReadability, packages.\n\nReadability.\n\nReadability, community.\n\nCommunity.\n\nCommunity readability.\n\nReadability.\n\nI think readability.\n\nCommunity readability.\n\nI think.\n\nReadability, readability.\n\nReadability.\n\nCommunity, readability.\n\nReadability.\n\nReadability.\n\nReadability.\n\nCommunity.\n\nReadability.\n\nReadability.\n\nReadability.\n\nReadability.\n\nReadability.\n\nReadability.\n\nReadability.\n\nReadability.\n\nReadabilityReadability.\n\nReadability.\n\nReadability.\n\nReadability.\n\nReadability.\n\nReadability.\n\nReadability.\n\nReadability.\n\nReadability.\n\nReadability.\n\nReadability.\n\nReadability.\n\nReadability.\n\nReadability.\n\nReadability.\n\nReadability.\n\nReadability.\n\nReadability.\n\nReadability.\n\nReadability.\n\nReadability.\n\nReadability.\n\nReadability.\n\nReadability.\n\nReadability.\n\nReadability.\n\nReadability.\n\nReadability.\n\nReadability.\n\nReadability.\n\nReadability.\n\nReadability.\n\nReadability.\n\nReadability.\n\nReadability.\n\nReadability.\n\nReadability.\n\nReadability.\n\nReadability.\n\nReadability.\n\nReadability.\n\nReadability.\n\nReadability.\n\nReadability.\n\nReadability.\n\nReadability.\n\nReadability.\n\nReadability.\n\nReadability.\n\nReadability.\n\nReadability.\n\nReadability.\n\nReadability.\n\nReadability.\n\nReadability.\n\nReadability.\n\nReadability.\n\nReadability.\n\nReadability.\n\nReadability.\n\nReadability.\n\nReadability.\n\nReadability.\n\nReadability.\n\nReadability.\n\nReadability.\n\nReadability.\n\nReadability.\n\nReadability.\n\nReadability.\n\nReadability.\n\nReadability.\n\nReadability.\n\nReadability.\n\nReadability.\n\nReadability.\n\nReadability.\n\nReadability.\n\nReadability.\n\nReadability.\n\nReadability.\n\nReadability.\n\nReadability.\n\nReadability.\n\nReadability.\n\nReadability.\n\nReadability.\n\nReadability.\n\nReadability.\n\nReadability.\n\nReadability.\n\nReadability.\n\nReadability.\n\nReadability.\n\nReadability.\n\nReadability.\n\nReadability.\n\nReadability.\n\nReadability.\n\nReadability.\n\nReadability.\n\nReadability.\n\nReadability.\n\nReadability.\n\nReadability.\n\nReadability.\n\nReadability.\n\nReadability.\n\nReadability.\n\nReadability.\n\nReadability.\n\nReadability.\n\nReadability.\n\nReadability.\n\nReadability.\n\nReadability.\n\nReadability.\n\nReadability.\n\nReadability.\n\nReadability.\n\nReadability.\n\nReadability.\n\nReadability.\n\nReadability.\n\nReadability.\n\nReadability.\n\nReadability.\n\nReadability.\n\nReadability.\n\nReadability.\n\nReadability.\n\nReadability.\n\nReadability.\n\nReadability.\n\nReadability.\n\nReadability.\n\nReadability.\n\nReadability.\n\nReadability.\n\nReadability.\n\nReadability.\n\nReadability.\n\nReadability.\n\nReadability.\n\nReadability.\n\nReadability.\n\nReadability.\n\nReadability.\n\nReadability.\n\nReadability.\n\nReadability.\n\nReadability.\n\nReadability.\n\nReadability.\n\nReadability.\n\nReadability.\n\nReadability.\n\nReadability.\n\nReadability.\n\nReadability.\n\nReadability.\n\nReadability.\n\nReadability.\n\nReadability.\n\nReadability.\n\nReadability.\n\nReadability.\n\nReadability.\n\nReadability.\n\nReadability.\n\nReadability.\n\nReadability.\n\nReadability.\n\nReadability.\n\nReadability.\n\nReadability.\n\nReadability.\n\nReadability.\n\nReadability.\n\nReadability.\n\nReadability.\n\nReadability.\n\nReadability.\n\nReadability.\n\nReadability.\n\nReadability.\n\nReadability.\n\nReadability.\n\nReadability.\n\nReadability.\n\nReadability.\n\nReadability.\n\nReadability.\n\nReadability.\n\nReadability.\n\nReadability.\n\nReadability.\n\nReadability.\n\nReadability.\n\nReadability.\n\nReadability.\n\nReadability.\n\nReadability.\n\nReadability.\n\nReadability.\n\nReadability.\n\nReadability.\n\nReadability.\n\nReadability.\n\nReadability.\n\nReadability.\n\nReadability.\n\nReadability.\n\nReadability.\n\nReadability.\n\nReadability.\n\nReadability.\n\nReadability.\n\nReadability.\n\nReadability.\n\nReadability.\n\nReadability.\n\nReadability.\n\nRead.\n</think>\nOkay, here are three key features of Python:\n\n1. concise Python:\n\n1. Readable code: Python code,2.3. Packages. Community. O.3.",
         "deepseek-r1:8b"
        ],
        [
         "1",
         "Go",
         "compiled",
         "80",
         "<think>\nWe are going to list three key features of the Go programming language (Golang.\n The language.\n\nGo (Go is a statically typed, compiled, concurrent, garbage-collected, procedural language, multiparallel language.\n\nGo is known for its simplicity, efficiency and performance.\n\nGo is used in web services.\n\nFirst key features:\n\n1. Simplicity: Go has clean syntax, few keywords, easy to learn, avoid complexity.\n\n2. \n\n2 Goroutines concurrency built-in, easy with channels, for async code.3. \n\n3 Fast compilation, efficient, good for deployment.\n\nAlso, \n\nBut user asked: \n\n1. No generics until 201.1, but generics now added.2. \n\nBut, some missing reflection, \n\nBut overall,Go is good for many.\n\nLet's focus on three key.\n</think>\nGo is a statically typed, compiled language with a concurrent programming language known for its simplicity and efficiency.\n\nHere are three key features:\n\n1. Simplicity: Clean syntax, few keywords, easy learn, avoid complexity.2 Goroutines for concurrency channels.3 fast compilation, deployment",
         "deepseek-r1:8b"
        ],
        [
         "2",
         "TypeScript",
         "interpreted",
         "85",
         "<think>\nWe are given a list three key features of TypeScript and make it TypeScript concise. Let's think about what that. TypeScript is TypeScript a superset of JavaScript so it has extra features like static typing and other. \n1. TypeScript has static typing. TypeScript has type checking at compile time. JavaScript. So one key feature is static typing. Also TypeScript has interface. interface. interface to define contract. Also classes. Another generics. generics. So we can reuse code with types. So three key features static typing, interfaces generics and generics and type checking. But typing. But question say three. Let's say. TypeScript. First feature is TypeScript has type system. Second is static typing. Second generics. Third. Third. generics. Also. Also has module system. But. But TypeScript is. TypeScript has module. But ES6 has module. So. But. Another feature is type. TypeScript. First. Maybe. Strong typing. Type checking. Second. Third. Generics. And. Also. Another. But. Let's say. First. Three key features: 1. Static typing. Strong typing. 2. Generics. Compile. And. And. Also. But. I think. TypeScript. So. Three. 1. Type system. Static typing.2. Generics. And. And. Also. But. I think. Perhaps. TypeScript. First. Type. Typing. Second. Generics. Generics. And. And. And. Async/await. But async/await is JavaScript. TypeScript support but TypeScript. But not new. So. So. No. Three. Let. I think. TypeScript key features: Type system. Static typing. Generics. Interface. And. And. And. Or. Let. Let. Three. 1. Static typing. Generics. Type inference. But TypeScript has. TypeScript has type inference. But. So. Not. So. TypeScript. I think. Three. First. Type system. Static typing. Generics. Second. Third. And. And. Let. Or. TypeScript. First. - Static typing. Second. Generics. And. And. Async/await. No. But async is not specific TypeScript. So. So. Three features. TypeScript:1. Type checking. Generics. Generics. And. And. And. Another. Maybe. Let's say. Three:1. Type checking. Generics. Type. And. And. And. Or. I think. TypeScript. TypeScript. Three. Static typing is. Generics. But. Also. But. Let's list three:1. Static typing. Generics. Generics. And. And. And. But. I think. First. The three. TypeScript generics. Generics. Second. And. And. And. Or. TypeScript has. Three. Maybe. First. Type. Type system. Generals. Second. TypeScript has. Or. Let me. I think. The three key features are:1. Type system. Generics. Second. And. And. But. TypeScript has. Or. Let. TypeScript. Three. Type checking. Let. Generics. But. And. I think. I think. The three:1. Type checking. Generics. Second. And. And. And. Or. Let. TypeScript. TypeScript. Three: Static typing. Generals. But. Let's pick three.1. Static typing. Generics. Generics. And. And. But. And. No. Three. So. I choose. Let. Three key features:1. Type system. Generics. Second. Third. But TypeScript has. And. Or. TypeScript. TypeScript. Three:1. Type checking. Second. Generics. Third. And. And. Another. But. I think. Let. Three:1. Type. Type checking. Second. Generics. And. And. Third. Or. I think. TypeScript. TypeScript. TypeScript. First. Static. Generics. But. Let's go with. The three:1. TypeScript. Static typing. Second. Generics. And. And. And. Or. TypeScript. TypeScript. I think. Static. Three. Let. Generics. And. Let me list:1. Static typing. Generics. Generics. And. And. And. But. I think TypeScript. Three. Static. The. Generics. Second. Let. And. TypeScript. I. TypeScript. So I choose:1. Static. Type checking. Generics. Second. And. And. And. TypeScript has. TypeScript. Or. Three. Type inference. First. But TypeScript has type inference. So. Not. So. I think. Final. Three key:1. Static typing. Generics. Generics. And. And. And. Let's say. Three.1. TypeScript typing. Generics. Generics. Second. But TypeScript. Or. TypeScript. Let. TypeScript: Type system. The three. But I think. TypeScript. Let three:1. Type. Static. Second. Generics. And. And. Or. TypeScript. TypeScript. I think the three features are:1. Static typing. Generics. Second. But. And. Or. I think. Three. TypeScript:1. Type checking. Generics. Second. TypeScript has. And. But. Let's say three:1. Static. Type checking. Generics. Second. And. And. Or. TypeScript. I think TypeScript. Three. Static. But. Let's go with: Type checking. Static. Second. And. Or. TypeScript. TypeScript. I think. Three: Static. Generics. And. Or. TypeScript. Final answer: Static typing. TypeScript generics and generics and type inference. But TypeScript has type inference. But. So. I think three. Three key features:1. Static typing. Generics. Second. And. TypeScript. And. Or. Let. TypeScript. TypeScript: Static typing. Static typing. Generics. Second. And. Yes. Let's say three key features:1. Static typing. Generics. Second. And. And. Or TypeScript. But TypeScript. TypeScript has. Or. Three: Type system. I think. I choose. TypeScript: Type. Static. Generics. Second. And. TypeScript. And. Let. TypeScript: Type. TypeScript. Let three. Final three: Static typing, generics and type inference and modules. But modules. But modules TypeScript has. So. Not. Or. Three:1. TypeScript generics. Generics. Second. And. And. TypeScript. Or. I. Let. TypeScript. TypeScript: Type checking. Static. Generics. Second. TypeScript. And. Let's go with:1. 1. Static typing. Generics. Second. And. TypeScript. Or TypeScript. TypeScript. TypeScript. I think. Three. TypeScript: Static. Type. Let. Generics. TypeScript. But. I think three: Type. Static. Generics. Generics. Second. And. And. Or. TypeScript. TypeScript. TypeScript: Type. I think. Generals. The three features are: Static typing, generics, and type inference, and. But. TypeScript has type inference is part of. So. So. Let three:1. Static. Generics. Second. TypeScript. And. TypeScript. Or. I. TypeScript. TypeScript: Type. Static. Static. Generics. Let three:1. Generics. And. TypeScript. TypeScript. I think: Static. Let three: Type. Generics. Second. And. Or. TypeScript. TypeScript. TypeScript. TypeScript. Type: Static. I think. Let. Three. Generics. TypeScript. Let's say: Static. Three key features: Static typing, generics, and modules, and. But modules. modules. TypeScript. Or. No. TypeScript. TypeScript: Static. Let. I think: TypeScript. Three: Generics. And. Or. TypeScript. TypeScript. I. TypeScript: Static. Let. Generics. TypeScript. TypeScript. I choose: Static. TypeScript Generics and. And. And. Or. TypeScript. Three: Static. TypeScript. I. TypeScript. TypeScript. I think. I'll go with:1. Static typing, generics, generics, and. But. And. But. Three:1. Static, generics, generics, and type inference. TypeScript. But type inference. But. Let. So. Three: Static, generics, generics, and. And. TypeScript. Or. TypeScript. Let: Type inference. I. TypeScript. Let. Three: Static, generics and. And. Or. TypeScript. I. TypeScript: Static. TypeScript. TypeScript. I think three features: Static. Generics, and. But. Let. TypeScript. I. TypeScript: Generics. Let. I have. TypeScript. I think three: Static, generics. Generics. And. TypeScript. And. TypeScript. TypeScript. I. Let. TypeScript. TypeScript: Static. Let. I. I choose: Static. TypeScript. Generics. And. TypeScript. Or. TypeScript. TypeScript. TypeScript: Static. I. TypeScript. Let. I'll list three: typing, generics. But. But. Let's. Three: Static. TypeScript. Generics. TypeScript. And. Yes, I think. Three. TypeScript: Static. Generics. And. Or. TypeScript. TypeScript. TypeScript. TypeScript. I. TypeScript. The three: Type. I think. Generics. Let. TypeScript. I think three: Static. TypeScript. Generics. Let. And. TypeScript. TypeScript. TypeScript. I. Three: Static. Let. Generics. TypeScript. TypeScript. TypeScript: Static. I think. TypeScript. TypeScript. Let. Three. I'll. Static. TypeScript. TypeScript. Generics. Or. But. Three: Static. TypeScript. TypeScript. TypeScript. I. Let. TypeScript. TypeScript. TypeScript. TypeScript. I. I think: Static. TypeScript. TypeScript. Generics. TypeScript. But. Let. TypeScript. Three. TypeScript. TypeScript. I. TypeScript: Static. I. TypeScript. TypeScript. Let. I. TypeScript. TypeScript. I think. TypeScript. I'll go with: Static typing, generics. But. But. TypeScript. Let. Three. TypeScript. I. TypeScript. TypeScript. TypeScript. Let. TypeScript: Type. I. I think. TypeScript. TypeScript. TypeScript. TypeScript. I. TypeScript. I. TypeScript. TypeScript. TypeScript. Let me. Three: Static. TypeScript. TypeScript. TypeScript. TypeScript. TypeScript. I think: Static. TypeScript. TypeScript. TypeScript. TypeScript. TypeScript. I. I. TypeScript. TypeScript. TypeScript. TypeScript. TypeScript. TypeScript. TypeScript. TypeScript. TypeScript. TypeScript. TypeScript. TypeScript. TypeScript. TypeScript. TypeScript. TypeScript. TypeScript. TypeScript. TypeScript. TypeScript. TypeScript. TypeScript. TypeScript. TypeScript. TypeScript. TypeScript. TypeScript. TypeScript. TypeScript. TypeScript. TypeScript. TypeScript. TypeScript. TypeScript. TypeScript. TypeScript. TypeScript. TypeScript. TypeScript. TypeScript. TypeScript. TypeScript. TypeScript. TypeScript. TypeScript. TypeScript. TypeScript. TypeScript. TypeScript. TypeScript. TypeScript. TypeScript. TypeScript. TypeScript. TypeScript. TypeScript. TypeScript. TypeScript. TypeScript. TypeScript. TypeScript. TypeScript. TypeScript. TypeScript. TypeScript. TypeScript. TypeScript. TypeScript. TypeScript. TypeScript. TypeScript. TypeScript. TypeScript. TypeScript. TypeScript. TypeScript. TypeScript. TypeScript. TypeScript. TypeScript. TypeScript. TypeScript. TypeScript. TypeScript. TypeScript. TypeScript. TypeScript. TypeScript. TypeScript. TypeScript. TypeScript. TypeScript. TypeScript. TypeScript. TypeScript. TypeScript. TypeScript. TypeScript. TypeScript. TypeScript. TypeScript. TypeScript. TypeScript. TypeScript. TypeScript. TypeScript. TypeScript. TypeScript. TypeScript. TypeScript. TypeScript. TypeScript. TypeScript. TypeScript. TypeScript. TypeScript. TypeScript. TypeScript. TypeScript. TypeScript. TypeScript. TypeScript. TypeScript. TypeScript. TypeScript. TypeScript. TypeScript. TypeScript. TypeScript. TypeScript. TypeScript. TypeScript. TypeScript. TypeScript. TypeScript. TypeScript. TypeScript. TypeScript. TypeScript. TypeScript. TypeScript. TypeScript. TypeScript. TypeScript. TypeScript. TypeScript. TypeScript. TypeScript. TypeScript. TypeScript. TypeScript. TypeScript. TypeScript. TypeScript. TypeScript. TypeScript. TypeScript. TypeScript. TypeScript. TypeScript. TypeScript. TypeScript. TypeScript. TypeScript. TypeScript. TypeScript. TypeScript. TypeScript. TypeScript. TypeScript. TypeScript. TypeScript. TypeScript. TypeScript. TypeScript. TypeScript. TypeScript. TypeScript. TypeScript. TypeScript. TypeScript. TypeScript. TypeScript. TypeScript. TypeScript. TypeScript. TypeScript. TypeScript. TypeScript. TypeScript. TypeScript. TypeScript. TypeScript. TypeScript. TypeScript. TypeScript. TypeScript. TypeScript. TypeScript. TypeScript. TypeScript. TypeScript. TypeScript. TypeScript. TypeScript. TypeScript. I think: Static typing, generics. Let. And. But. TypeScript. TypeScript. TypeScript. TypeScript. TypeScript. TypeScript. TypeScript. TypeScript. TypeScript. TypeScript. TypeScript. TypeScript. TypeScript. TypeScript. TypeScript. TypeScript. TypeScript. TypeScript. TypeScript. TypeScript. TypeScript. TypeScript. TypeScript. TypeScript. TypeScript. TypeScript. TypeScript. TypeScript. TypeScript. TypeScript. TypeScript. TypeScript. TypeScript. TypeScript. TypeScript. TypeScript. TypeScript. TypeScript. TypeScript. TypeScript. TypeScript. TypeScript. TypeScript. TypeScript. TypeScript. TypeScript. TypeScript. TypeScript. TypeScript. TypeScript. TypeScript. TypeScript. TypeScript. TypeScript. TypeScript. TypeScript. TypeScript. TypeScript. TypeScript. TypeScript. TypeScript. TypeScript. TypeScript. TypeScript. TypeScript. TypeScript. TypeScript. TypeScript. TypeScript. TypeScript. TypeScript. TypeScript. TypeScript. TypeScript. TypeScript. TypeScript. TypeScript. TypeScript. TypeScript. TypeScript. TypeScript. TypeScript. TypeScript. TypeScript. TypeScript. TypeScript. TypeScript. TypeScript. TypeScript. TypeScript. TypeScript. TypeScript. TypeScript. TypeScript. TypeScript. TypeScript. TypeScript. TypeScript. TypeScript. TypeScript. TypeScript. TypeScript. TypeScript. TypeScript. TypeScript. TypeScript. TypeScript. TypeScript. TypeScript. TypeScript. TypeScript. TypeScript. TypeScript. TypeScript. TypeScript. TypeScript. TypeScript. TypeScript. TypeScript. TypeScript. TypeScript. TypeScript. TypeScript. TypeScript. TypeScript. TypeScript. TypeScript. TypeScript. TypeScript. TypeScript. TypeScript. TypeScript. TypeScript. TypeScript. TypeScript. TypeScript. TypeScript. TypeScript. TypeScript. TypeScript. TypeScript. TypeScript. TypeScript. TypeScript. TypeScript. TypeScript. TypeScript. TypeScript. TypeScript. TypeScript. TypeScript. TypeScript. TypeScript. TypeScript. TypeScript. TypeScript. TypeScript. TypeScript. TypeScript. TypeScript. TypeScript. TypeScript. TypeScript. TypeScript. TypeScript. TypeScript. TypeScript. TypeScript. TypeScript. TypeScript. TypeScript. TypeScript. TypeScript. TypeScript. TypeScript. TypeScript. TypeScript. TypeScript. TypeScript. TypeScript. TypeScript. TypeScript. TypeScript. TypeScript. TypeScript. TypeScript. TypeScript. TypeScript. TypeScript. TypeScript. TypeScript. TypeScript. TypeScript. TypeScript. TypeScript. TypeScript. TypeScript. TypeScript. TypeScript. TypeScript. TypeScript. TypeScript. TypeScript. TypeScript. TypeScript. TypeScript. TypeScript. TypeScript. TypeScript. TypeScript. TypeScript. TypeScript. TypeScript. TypeScript. TypeScript. TypeScript. TypeScript. TypeScript. TypeScript. TypeScript. TypeScript. TypeScript. TypeScript. TypeScript. TypeScript. TypeScript. TypeScript. TypeScript. TypeScript. TypeScript. TypeScript. TypeScript. TypeScript. TypeScript. TypeScript. TypeScript. TypeScript. TypeScript. TypeScript. TypeScript. TypeScript. TypeScript. TypeScript. TypeScript. TypeScript. TypeScript. TypeScript. TypeScript. TypeScript. TypeScript. TypeScript. TypeScript. TypeScript. TypeScript. TypeScript. TypeScript. TypeScript. TypeScript. TypeScript. TypeScript. TypeScript. TypeScript. TypeScript. TypeScript. TypeScript. TypeScript. TypeScript. TypeScript. TypeScript. TypeScript. TypeScript. TypeScript. TypeScript. TypeScript. TypeScript. TypeScript. TypeScript. TypeScript. TypeScript. TypeScript. TypeScript. TypeScript. TypeScript. TypeScript. TypeScript. TypeScript. TypeScript. TypeScript. TypeScript. TypeScript. TypeScript. TypeScript. TypeScript. TypeScript. TypeScript. TypeScript. TypeScript. TypeScript. TypeScript. TypeScript. TypeScript. TypeScript. TypeScript. TypeScript. TypeScript. TypeScript. TypeScript. TypeScript. TypeScript. TypeScript. TypeScript. TypeScript. TypeScript. TypeScript. TypeScript. TypeScript. TypeScript. TypeScript. TypeScript. TypeScript. TypeScript. TypeScript. TypeScript. TypeScript. TypeScript. TypeScript. TypeScript. TypeScript. TypeScript. TypeScript. TypeScript. TypeScript. TypeScript. TypeScript. TypeScript. TypeScript. TypeScript. TypeScript. TypeScript. TypeScript. TypeScript. TypeScript. TypeScript. TypeScript. TypeScript. TypeScript. TypeScript. TypeScript. TypeScript. TypeScript. TypeScript. TypeScript. TypeScript. TypeScript. TypeScript. TypeScript. TypeScript. TypeScript. TypeScript. TypeScript. TypeScript. TypeScript. TypeScript. TypeScript. TypeScript. TypeScript. TypeScript. TypeScript. TypeScript. TypeScript. TypeScript. TypeScript. TypeScript. TypeScript. TypeScript. TypeScript. TypeScript. TypeScript. TypeScript. TypeScript. TypeScript. TypeScript. TypeScript. TypeScript. TypeScript. TypeScript. TypeScript. TypeScript. TypeScript. TypeScript. TypeScript. TypeScript. TypeScript. TypeScript. TypeScript. TypeScript. TypeScript. TypeScript. TypeScript. TypeScript. TypeScript. TypeScript. TypeScript. TypeScript. TypeScript. TypeScript. TypeScript. TypeScript. TypeScript. TypeScript. TypeScript. TypeScript. TypeScript. TypeScript. TypeScript. TypeScript. TypeScript. TypeScript. TypeScript. TypeScript. TypeScript. TypeScript. TypeScript. TypeScript. TypeScript. TypeScript. TypeScript. TypeScript. TypeScript. TypeScript. TypeScript. TypeScript. TypeScript. TypeScript. TypeScript. TypeScript. TypeScript. TypeScript. TypeScript. TypeScript. TypeScript. TypeScript. TypeScript. TypeScript. TypeScript. TypeScript. TypeScript. TypeScript. TypeScript. TypeScript. TypeScript. TypeScript. TypeScript. TypeScript. TypeScript. TypeScript. TypeScript. TypeScript. TypeScript. TypeScript. TypeScript. TypeScript. TypeScript. TypeScript. TypeScript. TypeScript. TypeScript. TypeScript. TypeScript. TypeScript. TypeScript. TypeScript. TypeScript. TypeScript. TypeScript. TypeScript. TypeScript. TypeScript. TypeScript. TypeScript. TypeScript. TypeScript. TypeScript. TypeScript. TypeScript. TypeScript. TypeScript. TypeScript. TypeScript. TypeScript. TypeScript. TypeScript. TypeScript. TypeScript. TypeScript. TypeScript. TypeScript. TypeScript. TypeScript. TypeScript. TypeScript. TypeScript. TypeScript. TypeScript. TypeScript. TypeScript. TypeScript. TypeScript. TypeScript. TypeScript. TypeScript. TypeScript. TypeScript. TypeScript. TypeScript. TypeScript. TypeScript. TypeScript. TypeScript. TypeScript. TypeScript. TypeScript. TypeScript. TypeScript. TypeScript. TypeScript. TypeScript. TypeScript. TypeScript. TypeScript. TypeScript. TypeScript. TypeScript. TypeScript. TypeScript. TypeScript. TypeScript. TypeScript. TypeScript. TypeScript. TypeScript. TypeScript. TypeScript. TypeScript. TypeScript. TypeScript. TypeScript. TypeScript. TypeScript. TypeScript. TypeScript. TypeScript. TypeScript. TypeScript. TypeScript. TypeScript. TypeScript. TypeScript. TypeScript. TypeScript. TypeScript. TypeScript. TypeScript. TypeScript. TypeScript. TypeScript. TypeScript. TypeScript. TypeScript. TypeScript. TypeScript. TypeScript. TypeScript. TypeScript. TypeScript. TypeScript. TypeScript. TypeScript. TypeScript. TypeScript. TypeScript. TypeScript. TypeScript. TypeScript. TypeScript. TypeScript. TypeScript. TypeScript. TypeScript. TypeScript. TypeScript. TypeScript. TypeScript. TypeScript. TypeScript. TypeScript. TypeScript. TypeScript. TypeScript. TypeScript. TypeScript. TypeScript. TypeScript. TypeScript. TypeScript. TypeScript. TypeScript. TypeScript. TypeScript. TypeScript. TypeScript. TypeScript. TypeScript. TypeScript. TypeScript. TypeScript. TypeScript. TypeScript. TypeScript. TypeScript. TypeScript. TypeScript. TypeScript. TypeScript. TypeScript. TypeScript. TypeScript. TypeScript. TypeScript. TypeScript. TypeScript. TypeScript. TypeScript. TypeScript. TypeScript. TypeScript. TypeScript. TypeScript. TypeScript. TypeScript. TypeScript. TypeScript. TypeScript. TypeScript. TypeScript. TypeScript. TypeScript. TypeScript. TypeScript. TypeScript. TypeScript. TypeScript. TypeScript. TypeScript. TypeScript. TypeScript. TypeScript. TypeScript. TypeScript. TypeScript. TypeScript. TypeScript. TypeScript. TypeScript. TypeScript. TypeScript. TypeScript. TypeScript. TypeScript. TypeScript. TypeScript. TypeScript. TypeScript. TypeScript. TypeScript. TypeScript. TypeScript. TypeScript. TypeScript. TypeScript. TypeScript. TypeScript. TypeScript. TypeScript. TypeScript. TypeScript. TypeScript. TypeScript. TypeScript. TypeScript. TypeScript. TypeScript. TypeScript. TypeScript. TypeScript. TypeScript. TypeScript. TypeScript. TypeScript. TypeScript. TypeScript. TypeScript. TypeScript. TypeScript. TypeScript. TypeScript. TypeScript. TypeScript. TypeScript. TypeScript. TypeScript. TypeScript. TypeScript. TypeScript. TypeScript. TypeScript. TypeScript. TypeScript. TypeScript. TypeScript. TypeScript. TypeScript. TypeScript. TypeScript. TypeScript. Let. TypeScript. After thinking, I have given up with the above, I think I think that the user meant to say: List3 three things about TypeScript features of TypeScript that are. But I know, but I didn't specified. So I think so I'll list three common features of TypeScript. TypeScript.\n\nTypeScript. TypeScript is a superset of JavaScript with static typing, adds optional, has static typing, has type inference, has type safety, and types for large community and modules.\n\nBut I think that's all.\n\nThe three.\n\nBut let's list three: 1. Static typing. Static Typing: TypeScript provides compile-time checking, errors before runtime.\n\n2.2. Optional: TypeScript helps catch bugs early.3.3. Inference: helps code readability.\n\nBut let's code cleaner.\n\nSo. But I think three points: Static typing, optional, optional, type inference, and modules.\n\nBut modules.\n\nBut modules is also.\n\nThree: 1. Static typing, optional,2. optional, and3. inference.\n\nBut modules.\n\nBut modules is not core.\n\nIn TypeScript.\n\nOr some say, three: static typing, optional, and type inference, and generics.\n\nBut generics.\n\nGenerics.\n\nBut generics is also part of TypeScript.\n\nI think.\n\nI think three:1. Static typing, optional, optional, inference, and generics.\n\nBut.\n\nBut I don't know.\n\nLet me.\n\nCommonly, three features are: static typing, optional, type checking, type inference, and modules, and generics.\n\nBut modules.\n\nBut modules not core.\n\nOr static.\n\nThe three: 1. Static typing, optional, type inference, and generics2.3. generics.\n\nBut generics is one.\n\nI think two.\n\nOr: static typing, optional, type inference, and modules.\n\nBut modules.\n\nI think.\n\nI'll go with:1. Static typing, optional, type inference, and modules.\n\nBut.\n\nBut modules optional is part of JavaScript.\n\nThree: static, optional, type inference, and JSDT yes.\n\nI think.\n\nI'll list:1. Static typing (static typing,2. optional3. optional typing3. inference.\n\nBut optional is one.\n\nNo.\n\nStatic typing is the core.\n\n1. Static typing.\n\n1. Static typing. Static typing2. Static typing.\n\nLet me:1. Static typing is one.\n\n1. Static typing.\n\n2 optional2 optional3. type inference.\n\nBut optional.\n\nBut optional is one.\n\nTyping.\n\nI think: Static typing, optional, and optional, and type inference.\n\nAnd.\n\nBut.\n\nSo three:1. Static typing2. Static typing (optional typing3. optional.\n\nNo, inference.\n\nI think.\n\n I have to output: Static typing, optional, inference, and.\n\nBut two.\n\nLet's three:1. Static typing2. Static typing. optional3. optional. inference.\n\nAnd modules.\n\n modules.\n\nBut modules is.\n\nPerhaps three: static, optional, and.\n\nBut static typing, and type checking.\n\nI think.\n\nI think static typing is one.\n\nI'll output: Static typing, optional, and.\n\nBut optional.\n\nBut.\n\nNo.\n\nI think the three:1. Static typing. Static typing.2. optional. optional.3 inference.\n\n inference.\n\nAnd.\n\nYes.\n\nSo:1. Static typing, optional, optional, inference.\n\nBut optional is two.\n\nI.\n\nI think: Static, optional, optional, and generics.\n\nBut generics.\n\nBut generics.\n\nSo three:1. Static, optional generics,2. optional inference3.\n\nBut generics.\n\nBut generics.\n\nI think.\n\nI have Static, static, optional, and generics.\n\nBut optional.\n\nNo.\n\nI think: static typing, optional, and generics.\n\nBut generics.\n\nYes.\n\nBut generics is important.\n\nSo:1. typing, optional, generics.\n\nAnd.\n\nNo.\n\nI think: static, generics.\n\nLet's three:1. Static typing2. optional.3 generics.\n\nBut.\n\nBut.\n\nI think two.\n\nI think three features:1. Static typing2. optional3 generics.\n\nBut optional.\n\nNo.\n\nNo.\n\nI am considering:1. Static typing, optional, type inference, generics.\n\nAnd.\n\nBut.\n\nAnd optional is.\n\nI:1. Static. static. optional inference2. generics.\n\nBut optional inferenceNo.\n\nI think optional.\n\nI: static, optional.\n\nI output static.\n\nI: Static.\n\nI think the three features are: static typing, optional, optional, and.\n\nBut optional.\n\nNo.\n\nI think.\n\nLet's say: static typing, optional and.\n\nBut optional.\n\nI think.\n\nI have three:1. static, optional.\n\nI think.\n\nNo.\n\nI think I'm confused.\n\nLet's output: Static, optional, inference.\n\nBut.\n\nI think.\n\nI think the three features are static typing, optional, and.\n\nBut optional.\n\nBut.\n\nI'll go with static.\n\n1. Static optional.\n\nBut optional.\n\nNo.\n\nI think two: static.\n\nI: static.\n\nLet's say static.\n\nI have three: static, optional.\n\nI am considering.\n\nI think.\n\nI think the user want three features are static, optional.\n\nBut.\n\nI think.\n\nI'll output: static, optional.\n\nBut.\n\nI think static is.\n\nI have to output the three: static, optional.\n\nI.\n\nI think.\n\nI thinkI am output static optional.\n\nI.\n\nI.\n\nI think: static.\n\nI am output static.\n\nI.\n\nI am output: static.\n\nI output.\n\nI.\n\nI am.\n\nI am.\n\nI am outputting static.\n\nI.\n\nI am.\n\nI am output static.\n\nI am.\n\nI.\n\nI amI am.\n\nI am.\n\nI am.\n\nI amI am.\n\nI.\n\nI amI amI am.\n\nI.\n\nI am.\n\nI.\n\nI amI.\n\nI am.\n\nI.\n\nI am.\n\nI.\n\nI.\n\nI.\n\nI am.\n\nI am.\n\nI.\n\nI am.\n\nI.\n\nI.\n\nI.\n\nI.\n\nI.\n\nI.\n\nI.\n\nI.\n\nI.\n\nI.\n\nI.\n\nI.\n\nI.\n\nI.\n\nI.\n\nI.\n\nI.\n\nI.\n\nI.\n\nI.\n\nI.\n\nI.\n\nI.\n\nI.\n\nI.\n\nI.\n\nI.\n\nI.\n\nI.\n\nI.\n\nI.\n\nI.\n\nI.\n\nI.\n\nI.\n\nI.\n\nI.\n\nI.\n\nI.\n\nI.\n\nI.\n\nI.\n\nI.\n\nI.\n\nI.\n\nI.\n\nI.\n\nI.\n\nI.\n\nI.\n\nI.\n\nI.\n\nI.\n\nI.\n\nI.\n\nI.\n\nI.\n\nI.\n\nI.\n\nI.\n\nI.\n\nI.\n\nI.\n\nI.\n\nI.\n\nI.\n\nI.\n\nI.\n\nI.\n\nI.\n\nI.\n\nI.\n\nI.\n\nI.\n\nI.\n\nI.\n\nI.\n\nI.\n\nI.\n\nI.\n\nI.\n\nI.\n\nI.\n\nI.\n\nI.\n\nI.\n\nI.\n\nI.\n\nI.\n\nI.\n\nI.\n\nI.\n\nI.\n\nI.\n\nI.\n\nI.\n\nI.\n\nI.\n\nI.\n\nI.\n\nI.\n\nI.\n\nI.\n\nI.\n\nI.\n\nI.\n\nI.\n\nI.\n\nI.\n\nI.\n\nI.\n\nI.\n\nI.\n\nI.\n\nI.\n\nI.\n\nI.\n\nI.\n\nI.\n\nI.\n\nI.\n\nI.\n\nI.\n\nI.\n\nI.\n\nI.\n\nI.\n\nI.\n\nI.\n\nI.\n\nI.\n\nI.\n\nI.\n\nI.\n\nI.\n\nI.\n\nI.\n\nI.\n\nI.\n\nI.\n\nI.\n\nI.\n\nI.\n\nI.\n\nI.\n\nI.\n\nI.\n\nI.\n\nI.\n\nI.\n\nI.\n\nI.\n\nI.\n\nI.\n\nI.\n\nI.\n\nI.\n\nI.\n\nI.\n\nI.\n\nI.\n\nI.\n\nI.\n\nI.\n\nI.\n\nI.\n\nI.\n\nI.\n\nI.\n\nI.\n\nI.\n\nI.\n\nI.\n\nI.\n\nI.\n\nI.\n\nI.\n\nI.\n\nI.\n\nI.\n\nI.\n\nI.\n\nI.\n\nI.\n\nI.\n\nI.\n\nI.\n\nI.\n\nI.\n\nI.\n\nI.\n\nI.\n\nI.\n\nI.\n\nI.\n\nI.\n\nI.\n\nI.\n\nI.\n\nI.\n\nI.\n\nI.\n\nI.\n\nI.\n\nI.\n\nI.\n\nI.\n\nI.\n\nI.\n\nI.\n\nI.\n\nI.\n\nI.\n\nI.\n\nI.\n\nI.\n\nI.\n\nI.\n\nI.\n\nI.\n\nI.\n\nI.\n\nI.\n\nI.\n\nI.\n\nI.\n\nI.\n\nI.\n\nI.\n\nI.\n\nI.\n\nI.\n\nI.\n\nI.\n\nI.\n\nI.\n\nI.\n\nI.\n\nI.\n\nI.\n\nI.\n\nI.\n\nI.\n\nI.\n\nI.\n\nI.\n\nI.\n\nI.\n\nI.\n\nI.\n\nI.\n\nI.\n\nI.\n\nI.\n\nI.\n\nI.\n\nI.\n\nI.\n\nI.\n\nI.\n\nI.\n\nI.\n\nI.\n\nI.\n\nI.\n\nI.\n\nI.\n\nI.\n\nI.\n\nI.\n\nI.\n\nI.\n\nI.\n\nI.\n\nI.\n\nI.\n\nI.\n\nI.\n\nI.\n\nI.\n\nI.\n\nI.\n\nI.\n\nI.\n\nThe user asked to list three features of TypeScript, but I said static, optional, optional, inference, modules, generics.\n\nI think.\n\nBut I'll output static, optional.\n\nSo: static, optional.\n\nBut.\n\nI.\n\nI think.\n\nI amI amI am outputting.\n\nI.\n\nI amI amI.\n\nI.\n\nI amI am.\n\nI amI amI amI am.\n\nI amI amI am amI am am am am am am am am am am am am am am am am am am am am am am am am am am am am am am am",
         "deepseek-r1:8b"
        ]
       ],
       "shape": {
        "columns": 5,
        "rows": 3
       }
      },
      "text/html": [
       "<div>\n",
       "<style scoped>\n",
       "    .dataframe tbody tr th:only-of-type {\n",
       "        vertical-align: middle;\n",
       "    }\n",
       "\n",
       "    .dataframe tbody tr th {\n",
       "        vertical-align: top;\n",
       "    }\n",
       "\n",
       "    .dataframe thead th {\n",
       "        text-align: right;\n",
       "    }\n",
       "</style>\n",
       "<table border=\"1\" class=\"dataframe\">\n",
       "  <thead>\n",
       "    <tr style=\"text-align: right;\">\n",
       "      <th></th>\n",
       "      <th>topic</th>\n",
       "      <th>type</th>\n",
       "      <th>popularity</th>\n",
       "      <th>key_features</th>\n",
       "      <th>model_name</th>\n",
       "    </tr>\n",
       "  </thead>\n",
       "  <tbody>\n",
       "    <tr>\n",
       "      <th>0</th>\n",
       "      <td>Python</td>\n",
       "      <td>interpreted</td>\n",
       "      <td>95</td>\n",
       "      <td>&lt;think&gt;\\nOkay, let me think about this query: ...</td>\n",
       "      <td>deepseek-r1:8b</td>\n",
       "    </tr>\n",
       "    <tr>\n",
       "      <th>1</th>\n",
       "      <td>Go</td>\n",
       "      <td>compiled</td>\n",
       "      <td>80</td>\n",
       "      <td>&lt;think&gt;\\nWe are going to list three key featur...</td>\n",
       "      <td>deepseek-r1:8b</td>\n",
       "    </tr>\n",
       "    <tr>\n",
       "      <th>2</th>\n",
       "      <td>TypeScript</td>\n",
       "      <td>interpreted</td>\n",
       "      <td>85</td>\n",
       "      <td>&lt;think&gt;\\nWe are given a list three key feature...</td>\n",
       "      <td>deepseek-r1:8b</td>\n",
       "    </tr>\n",
       "  </tbody>\n",
       "</table>\n",
       "</div>"
      ],
      "text/plain": [
       "        topic         type  popularity  \\\n",
       "0      Python  interpreted          95   \n",
       "1          Go     compiled          80   \n",
       "2  TypeScript  interpreted          85   \n",
       "\n",
       "                                        key_features      model_name  \n",
       "0  <think>\\nOkay, let me think about this query: ...  deepseek-r1:8b  \n",
       "1  <think>\\nWe are going to list three key featur...  deepseek-r1:8b  \n",
       "2  <think>\\nWe are given a list three key feature...  deepseek-r1:8b  "
      ]
     },
     "metadata": {},
     "output_type": "display_data"
    }
   ],
   "source": [
    "# Ejecutar\n",
    "result_transform = transform_pipeline.run(use_cache=False)\n",
    "\n",
    "print(\"\\n📊 Top 3 lenguajes más populares con features:\")\n",
    "display(result_transform)"
   ]
  },
  {
   "cell_type": "markdown",
   "metadata": {},
   "source": [
    "## 4. Pipeline Robusto con Manejo de Errores\n",
    "\n",
    "Usamos `RobustOllamaStep` para manejar errores de forma elegante."
   ]
  },
  {
   "cell_type": "code",
   "execution_count": 21,
   "metadata": {},
   "outputs": [
    {
     "data": {
      "application/vnd.microsoft.datawrangler.viewer.v0+json": {
       "columns": [
        {
         "name": "index",
         "rawType": "int64",
         "type": "integer"
        },
        {
         "name": "task",
         "rawType": "object",
         "type": "string"
        }
       ],
       "ref": "4105157b-90b1-4bed-b83c-76c300d2f914",
       "rows": [
        [
         "0",
         "Write a function to sort a list"
        ],
        [
         "1",
         "Explain recursion"
        ],
        [
         "2",
         "This is an intentionally bad prompt ###@@@"
        ],
        [
         "3",
         "Implement binary search"
        ]
       ],
       "shape": {
        "columns": 1,
        "rows": 4
       }
      },
      "text/html": [
       "<div>\n",
       "<style scoped>\n",
       "    .dataframe tbody tr th:only-of-type {\n",
       "        vertical-align: middle;\n",
       "    }\n",
       "\n",
       "    .dataframe tbody tr th {\n",
       "        vertical-align: top;\n",
       "    }\n",
       "\n",
       "    .dataframe thead th {\n",
       "        text-align: right;\n",
       "    }\n",
       "</style>\n",
       "<table border=\"1\" class=\"dataframe\">\n",
       "  <thead>\n",
       "    <tr style=\"text-align: right;\">\n",
       "      <th></th>\n",
       "      <th>task</th>\n",
       "    </tr>\n",
       "  </thead>\n",
       "  <tbody>\n",
       "    <tr>\n",
       "      <th>0</th>\n",
       "      <td>Write a function to sort a list</td>\n",
       "    </tr>\n",
       "    <tr>\n",
       "      <th>1</th>\n",
       "      <td>Explain recursion</td>\n",
       "    </tr>\n",
       "    <tr>\n",
       "      <th>2</th>\n",
       "      <td>This is an intentionally bad prompt ###@@@</td>\n",
       "    </tr>\n",
       "    <tr>\n",
       "      <th>3</th>\n",
       "      <td>Implement binary search</td>\n",
       "    </tr>\n",
       "  </tbody>\n",
       "</table>\n",
       "</div>"
      ],
      "text/plain": [
       "                                         task\n",
       "0             Write a function to sort a list\n",
       "1                           Explain recursion\n",
       "2  This is an intentionally bad prompt ###@@@\n",
       "3                     Implement binary search"
      ]
     },
     "metadata": {},
     "output_type": "display_data"
    }
   ],
   "source": [
    "# Dataset que puede causar problemas\n",
    "tricky_data = pd.DataFrame({\n",
    "    'task': [\n",
    "        'Write a function to sort a list',\n",
    "        'Explain recursion',\n",
    "        'This is an intentionally bad prompt ###@@@',  # Puede fallar\n",
    "        'Implement binary search',\n",
    "    ]\n",
    "})\n",
    "\n",
    "display(tricky_data)"
   ]
  },
  {
   "cell_type": "code",
   "execution_count": 22,
   "metadata": {},
   "outputs": [
    {
     "name": "stderr",
     "output_type": "stream",
     "text": [
      "2025-10-16 15:10:22 - SimplePipeline.robust-demo - INFO - Added step: load\n",
      "2025-10-16 15:10:22 - SimplePipeline.robust-demo - INFO - Added step: generate_code\n"
     ]
    },
    {
     "name": "stdout",
     "output_type": "stream",
     "text": [
      "✅ Pipeline robusto configurado\n"
     ]
    }
   ],
   "source": [
    "# Pipeline robusto\n",
    "robust_pipeline = SimplePipeline(\n",
    "    name=\"robust-demo\",\n",
    "    description=\"Demo de manejo robusto de errores\"\n",
    ")\n",
    "\n",
    "robust_pipeline.add_step(\n",
    "    LoadDataFrame(name=\"load\", df=tricky_data)\n",
    ")\n",
    "\n",
    "robust_pipeline.add_step(\n",
    "    RobustOllamaStep(\n",
    "        name=\"generate_code\",\n",
    "        model_name=\"deepseek-r1:8b\",\n",
    "        prompt_column=\"task\",\n",
    "        output_column=\"code\",\n",
    "        system_prompt=\"You are a coding assistant. Generate Python code.\",\n",
    "        batch_size=2,\n",
    "        max_retries=2,\n",
    "        save_failures=True,\n",
    "        continue_on_error=True  # Continuar aunque haya errores\n",
    "    )\n",
    ")\n",
    "\n",
    "print(\"✅ Pipeline robusto configurado\")"
   ]
  },
  {
   "cell_type": "code",
   "execution_count": 27,
   "metadata": {},
   "outputs": [
    {
     "name": "stderr",
     "output_type": "stream",
     "text": [
      "2025-10-16 15:20:59 - SimplePipeline.robust-demo - INFO - Starting pipeline: robust-demo\n",
      "2025-10-16 15:20:59 - SimplePipeline.robust-demo - INFO - Number of steps: 2\n",
      "2025-10-16 15:20:59 - SimplePipeline.robust-demo - INFO - Executing generator step: load\n",
      "2025-10-16 15:20:59 - SimplePipeline.robust-demo - INFO - Executing step: generate_code\n",
      "Processing generate_code:   0%|          | 0/4 [31:56<?, ?it/s]\n"
     ]
    },
    {
     "ename": "KeyboardInterrupt",
     "evalue": "",
     "output_type": "error",
     "traceback": [
      "\u001b[0;31m---------------------------------------------------------------------------\u001b[0m",
      "\u001b[0;31mKeyboardInterrupt\u001b[0m                         Traceback (most recent call last)",
      "Cell \u001b[0;32mIn[27], line 2\u001b[0m\n\u001b[1;32m      1\u001b[0m \u001b[38;5;66;03m# Ejecutar\u001b[39;00m\n\u001b[0;32m----> 2\u001b[0m result_robust \u001b[38;5;241m=\u001b[39m \u001b[43mrobust_pipeline\u001b[49m\u001b[38;5;241;43m.\u001b[39;49m\u001b[43mrun\u001b[49m\u001b[43m(\u001b[49m\u001b[43muse_cache\u001b[49m\u001b[38;5;241;43m=\u001b[39;49m\u001b[38;5;28;43;01mFalse\u001b[39;49;00m\u001b[43m)\u001b[49m\n\u001b[1;32m      4\u001b[0m \u001b[38;5;28mprint\u001b[39m(\u001b[38;5;124m\"\u001b[39m\u001b[38;5;130;01m\\n\u001b[39;00m\u001b[38;5;124m📊 Resultados (incluyendo errores):\u001b[39m\u001b[38;5;124m\"\u001b[39m)\n\u001b[1;32m      5\u001b[0m display(result_robust[[\u001b[38;5;124m'\u001b[39m\u001b[38;5;124mtask\u001b[39m\u001b[38;5;124m'\u001b[39m, \u001b[38;5;124m'\u001b[39m\u001b[38;5;124mstatus\u001b[39m\u001b[38;5;124m'\u001b[39m, \u001b[38;5;124m'\u001b[39m\u001b[38;5;124merror\u001b[39m\u001b[38;5;124m'\u001b[39m]])\n",
      "File \u001b[0;32m~/Desktop/synthetic_data_generation/simple_pipeline/pipeline.py:94\u001b[0m, in \u001b[0;36mSimplePipeline.run\u001b[0;34m(self, input_df, use_cache)\u001b[0m\n\u001b[1;32m     92\u001b[0m \u001b[38;5;66;03m# Ejecutar step\u001b[39;00m\n\u001b[1;32m     93\u001b[0m \u001b[38;5;28;01mtry\u001b[39;00m:\n\u001b[0;32m---> 94\u001b[0m     current_df \u001b[38;5;241m=\u001b[39m \u001b[43mstep\u001b[49m\u001b[43m(\u001b[49m\u001b[43mcurrent_df\u001b[49m\u001b[43m)\u001b[49m\n\u001b[1;32m     95\u001b[0m     \u001b[38;5;28mself\u001b[39m\u001b[38;5;241m.\u001b[39m_step_outputs[step\u001b[38;5;241m.\u001b[39mname] \u001b[38;5;241m=\u001b[39m current_df\n\u001b[1;32m     97\u001b[0m     \u001b[38;5;66;03m# Guardar en cache usando CacheManager ✅\u001b[39;00m\n",
      "File \u001b[0;32m~/Desktop/synthetic_data_generation/simple_pipeline/base_step.py:94\u001b[0m, in \u001b[0;36mBaseStep.__call__\u001b[0;34m(self, df)\u001b[0m\n\u001b[1;32m     91\u001b[0m \u001b[38;5;28mself\u001b[39m\u001b[38;5;241m.\u001b[39m_validate_inputs(df)\n\u001b[1;32m     93\u001b[0m \u001b[38;5;66;03m# Procesar datos\u001b[39;00m\n\u001b[0;32m---> 94\u001b[0m df \u001b[38;5;241m=\u001b[39m \u001b[38;5;28;43mself\u001b[39;49m\u001b[38;5;241;43m.\u001b[39;49m\u001b[43mprocess\u001b[49m\u001b[43m(\u001b[49m\u001b[43mdf\u001b[49m\u001b[43m)\u001b[49m\n\u001b[1;32m     96\u001b[0m \u001b[38;5;66;03m# Aplicar mapeos de salida\u001b[39;00m\n\u001b[1;32m     97\u001b[0m df \u001b[38;5;241m=\u001b[39m \u001b[38;5;28mself\u001b[39m\u001b[38;5;241m.\u001b[39m_apply_output_mappings(df)\n",
      "File \u001b[0;32m~/Desktop/synthetic_data_generation/simple_pipeline/steps/robust_ollama.py:95\u001b[0m, in \u001b[0;36mRobustOllamaStep.process\u001b[0;34m(self, df)\u001b[0m\n\u001b[1;32m     92\u001b[0m \u001b[38;5;28mself\u001b[39m\u001b[38;5;241m.\u001b[39mfailure_count \u001b[38;5;241m=\u001b[39m \u001b[38;5;241m0\u001b[39m\n\u001b[1;32m     94\u001b[0m \u001b[38;5;66;03m# Procesar usando el método padre\u001b[39;00m\n\u001b[0;32m---> 95\u001b[0m result_df \u001b[38;5;241m=\u001b[39m \u001b[38;5;28;43msuper\u001b[39;49m\u001b[43m(\u001b[49m\u001b[43m)\u001b[49m\u001b[38;5;241;43m.\u001b[39;49m\u001b[43mprocess\u001b[49m\u001b[43m(\u001b[49m\u001b[43mdf\u001b[49m\u001b[43m)\u001b[49m\n\u001b[1;32m     97\u001b[0m \u001b[38;5;66;03m# Guardar filas fallidas si existen\u001b[39;00m\n\u001b[1;32m     98\u001b[0m \u001b[38;5;28;01mif\u001b[39;00m \u001b[38;5;28mself\u001b[39m\u001b[38;5;241m.\u001b[39msave_failures \u001b[38;5;129;01mand\u001b[39;00m \u001b[38;5;28mself\u001b[39m\u001b[38;5;241m.\u001b[39mfailed_rows:\n",
      "File \u001b[0;32m~/Desktop/synthetic_data_generation/simple_pipeline/steps/ollama_step.py:128\u001b[0m, in \u001b[0;36mOllamaLLMStep.process\u001b[0;34m(self, df)\u001b[0m\n\u001b[1;32m    126\u001b[0m \u001b[38;5;28;01mwith\u001b[39;00m tqdm(total\u001b[38;5;241m=\u001b[39m\u001b[38;5;28mlen\u001b[39m(df), desc\u001b[38;5;241m=\u001b[39m\u001b[38;5;124mf\u001b[39m\u001b[38;5;124m\"\u001b[39m\u001b[38;5;124mProcessing \u001b[39m\u001b[38;5;132;01m{\u001b[39;00m\u001b[38;5;28mself\u001b[39m\u001b[38;5;241m.\u001b[39mname\u001b[38;5;132;01m}\u001b[39;00m\u001b[38;5;124m\"\u001b[39m) \u001b[38;5;28;01mas\u001b[39;00m pbar:\n\u001b[1;32m    127\u001b[0m     \u001b[38;5;28;01mfor\u001b[39;00m batch \u001b[38;5;129;01min\u001b[39;00m batch_dataframe(df, \u001b[38;5;28mself\u001b[39m\u001b[38;5;241m.\u001b[39mbatch_size):  \u001b[38;5;66;03m# ✅ Iterator\u001b[39;00m\n\u001b[0;32m--> 128\u001b[0m         processed_batch \u001b[38;5;241m=\u001b[39m \u001b[38;5;28;43mself\u001b[39;49m\u001b[38;5;241;43m.\u001b[39;49m\u001b[43m_process_batch\u001b[49m\u001b[43m(\u001b[49m\u001b[43mbatch\u001b[49m\u001b[43m)\u001b[49m\n\u001b[1;32m    129\u001b[0m         results\u001b[38;5;241m.\u001b[39mappend(processed_batch)\n\u001b[1;32m    130\u001b[0m         pbar\u001b[38;5;241m.\u001b[39mupdate(\u001b[38;5;28mlen\u001b[39m(batch))\n",
      "File \u001b[0;32m~/Desktop/synthetic_data_generation/simple_pipeline/steps/robust_ollama.py:56\u001b[0m, in \u001b[0;36mRobustOllamaStep._process_batch\u001b[0;34m(self, batch_df)\u001b[0m\n\u001b[1;32m     54\u001b[0m \u001b[38;5;28;01mtry\u001b[39;00m:\n\u001b[1;32m     55\u001b[0m     prompt \u001b[38;5;241m=\u001b[39m \u001b[38;5;28mself\u001b[39m\u001b[38;5;241m.\u001b[39m_format_prompt(row\u001b[38;5;241m.\u001b[39mto_dict())\n\u001b[0;32m---> 56\u001b[0m     generation \u001b[38;5;241m=\u001b[39m \u001b[38;5;28;43mself\u001b[39;49m\u001b[38;5;241;43m.\u001b[39;49m\u001b[43m_generate_with_retry\u001b[49m\u001b[43m(\u001b[49m\u001b[43mprompt\u001b[49m\u001b[43m)\u001b[49m\n\u001b[1;32m     58\u001b[0m     \u001b[38;5;28;01mif\u001b[39;00m generation \u001b[38;5;129;01mis\u001b[39;00m \u001b[38;5;28;01mNone\u001b[39;00m:\n\u001b[1;32m     59\u001b[0m         \u001b[38;5;28;01mraise\u001b[39;00m \u001b[38;5;167;01mValueError\u001b[39;00m(\u001b[38;5;124m\"\u001b[39m\u001b[38;5;124mGeneration returned None after retries\u001b[39m\u001b[38;5;124m\"\u001b[39m)\n",
      "File \u001b[0;32m~/Desktop/synthetic_data_generation/simple_pipeline/steps/ollama_step.py:89\u001b[0m, in \u001b[0;36mOllamaLLMStep._generate_with_retry\u001b[0;34m(self, prompt, retry_count)\u001b[0m\n\u001b[1;32m     86\u001b[0m     messages\u001b[38;5;241m.\u001b[39mappend({\u001b[38;5;124m\"\u001b[39m\u001b[38;5;124mrole\u001b[39m\u001b[38;5;124m\"\u001b[39m: \u001b[38;5;124m\"\u001b[39m\u001b[38;5;124muser\u001b[39m\u001b[38;5;124m\"\u001b[39m, \u001b[38;5;124m\"\u001b[39m\u001b[38;5;124mcontent\u001b[39m\u001b[38;5;124m\"\u001b[39m: prompt})\n\u001b[1;32m     88\u001b[0m     \u001b[38;5;66;03m# ✅ FIX: Los parámetros de generación van en 'options'\u001b[39;00m\n\u001b[0;32m---> 89\u001b[0m     response \u001b[38;5;241m=\u001b[39m \u001b[38;5;28;43mself\u001b[39;49m\u001b[38;5;241;43m.\u001b[39;49m\u001b[43mclient\u001b[49m\u001b[38;5;241;43m.\u001b[39;49m\u001b[43mchat\u001b[49m\u001b[43m(\u001b[49m\n\u001b[1;32m     90\u001b[0m \u001b[43m        \u001b[49m\u001b[43mmodel\u001b[49m\u001b[38;5;241;43m=\u001b[39;49m\u001b[38;5;28;43mself\u001b[39;49m\u001b[38;5;241;43m.\u001b[39;49m\u001b[43mmodel_name\u001b[49m\u001b[43m,\u001b[49m\n\u001b[1;32m     91\u001b[0m \u001b[43m        \u001b[49m\u001b[43mmessages\u001b[49m\u001b[38;5;241;43m=\u001b[39;49m\u001b[43mmessages\u001b[49m\u001b[43m,\u001b[49m\n\u001b[1;32m     92\u001b[0m \u001b[43m        \u001b[49m\u001b[43mstream\u001b[49m\u001b[38;5;241;43m=\u001b[39;49m\u001b[38;5;28;43;01mFalse\u001b[39;49;00m\u001b[43m,\u001b[49m\n\u001b[1;32m     93\u001b[0m \u001b[43m        \u001b[49m\u001b[43moptions\u001b[49m\u001b[38;5;241;43m=\u001b[39;49m\u001b[38;5;28;43mself\u001b[39;49m\u001b[38;5;241;43m.\u001b[39;49m\u001b[43mgeneration_kwargs\u001b[49m\u001b[43m  \u001b[49m\u001b[38;5;66;43;03m# ✅ Correcto: dentro de options\u001b[39;49;00m\n\u001b[1;32m     94\u001b[0m \u001b[43m    \u001b[49m\u001b[43m)\u001b[49m\n\u001b[1;32m     95\u001b[0m     \u001b[38;5;28;01mreturn\u001b[39;00m response[\u001b[38;5;124m'\u001b[39m\u001b[38;5;124mmessage\u001b[39m\u001b[38;5;124m'\u001b[39m][\u001b[38;5;124m'\u001b[39m\u001b[38;5;124mcontent\u001b[39m\u001b[38;5;124m'\u001b[39m]\n\u001b[1;32m     97\u001b[0m \u001b[38;5;28;01mexcept\u001b[39;00m \u001b[38;5;167;01mException\u001b[39;00m \u001b[38;5;28;01mas\u001b[39;00m e:\n",
      "File \u001b[0;32m/opt/homebrew/Caskroom/miniconda/base/envs/tesis/lib/python3.13/site-packages/ollama/_client.py:351\u001b[0m, in \u001b[0;36mClient.chat\u001b[0;34m(self, model, messages, tools, stream, think, format, options, keep_alive)\u001b[0m\n\u001b[1;32m    306\u001b[0m \u001b[38;5;28;01mdef\u001b[39;00m\u001b[38;5;250m \u001b[39m\u001b[38;5;21mchat\u001b[39m(\n\u001b[1;32m    307\u001b[0m   \u001b[38;5;28mself\u001b[39m,\n\u001b[1;32m    308\u001b[0m   model: \u001b[38;5;28mstr\u001b[39m \u001b[38;5;241m=\u001b[39m \u001b[38;5;124m'\u001b[39m\u001b[38;5;124m'\u001b[39m,\n\u001b[0;32m   (...)\u001b[0m\n\u001b[1;32m    316\u001b[0m   keep_alive: Optional[Union[\u001b[38;5;28mfloat\u001b[39m, \u001b[38;5;28mstr\u001b[39m]] \u001b[38;5;241m=\u001b[39m \u001b[38;5;28;01mNone\u001b[39;00m,\n\u001b[1;32m    317\u001b[0m ) \u001b[38;5;241m-\u001b[39m\u001b[38;5;241m>\u001b[39m Union[ChatResponse, Iterator[ChatResponse]]:\n\u001b[1;32m    318\u001b[0m \u001b[38;5;250m  \u001b[39m\u001b[38;5;124;03m\"\"\"\u001b[39;00m\n\u001b[1;32m    319\u001b[0m \u001b[38;5;124;03m  Create a chat response using the requested model.\u001b[39;00m\n\u001b[1;32m    320\u001b[0m \n\u001b[0;32m   (...)\u001b[0m\n\u001b[1;32m    349\u001b[0m \u001b[38;5;124;03m  Returns `ChatResponse` if `stream` is `False`, otherwise returns a `ChatResponse` generator.\u001b[39;00m\n\u001b[1;32m    350\u001b[0m \u001b[38;5;124;03m  \"\"\"\u001b[39;00m\n\u001b[0;32m--> 351\u001b[0m   \u001b[38;5;28;01mreturn\u001b[39;00m \u001b[38;5;28;43mself\u001b[39;49m\u001b[38;5;241;43m.\u001b[39;49m\u001b[43m_request\u001b[49m\u001b[43m(\u001b[49m\n\u001b[1;32m    352\u001b[0m \u001b[43m    \u001b[49m\u001b[43mChatResponse\u001b[49m\u001b[43m,\u001b[49m\n\u001b[1;32m    353\u001b[0m \u001b[43m    \u001b[49m\u001b[38;5;124;43m'\u001b[39;49m\u001b[38;5;124;43mPOST\u001b[39;49m\u001b[38;5;124;43m'\u001b[39;49m\u001b[43m,\u001b[49m\n\u001b[1;32m    354\u001b[0m \u001b[43m    \u001b[49m\u001b[38;5;124;43m'\u001b[39;49m\u001b[38;5;124;43m/api/chat\u001b[39;49m\u001b[38;5;124;43m'\u001b[39;49m\u001b[43m,\u001b[49m\n\u001b[1;32m    355\u001b[0m \u001b[43m    \u001b[49m\u001b[43mjson\u001b[49m\u001b[38;5;241;43m=\u001b[39;49m\u001b[43mChatRequest\u001b[49m\u001b[43m(\u001b[49m\n\u001b[1;32m    356\u001b[0m \u001b[43m      \u001b[49m\u001b[43mmodel\u001b[49m\u001b[38;5;241;43m=\u001b[39;49m\u001b[43mmodel\u001b[49m\u001b[43m,\u001b[49m\n\u001b[1;32m    357\u001b[0m \u001b[43m      \u001b[49m\u001b[43mmessages\u001b[49m\u001b[38;5;241;43m=\u001b[39;49m\u001b[38;5;28;43mlist\u001b[39;49m\u001b[43m(\u001b[49m\u001b[43m_copy_messages\u001b[49m\u001b[43m(\u001b[49m\u001b[43mmessages\u001b[49m\u001b[43m)\u001b[49m\u001b[43m)\u001b[49m\u001b[43m,\u001b[49m\n\u001b[1;32m    358\u001b[0m \u001b[43m      \u001b[49m\u001b[43mtools\u001b[49m\u001b[38;5;241;43m=\u001b[39;49m\u001b[38;5;28;43mlist\u001b[39;49m\u001b[43m(\u001b[49m\u001b[43m_copy_tools\u001b[49m\u001b[43m(\u001b[49m\u001b[43mtools\u001b[49m\u001b[43m)\u001b[49m\u001b[43m)\u001b[49m\u001b[43m,\u001b[49m\n\u001b[1;32m    359\u001b[0m \u001b[43m      \u001b[49m\u001b[43mstream\u001b[49m\u001b[38;5;241;43m=\u001b[39;49m\u001b[43mstream\u001b[49m\u001b[43m,\u001b[49m\n\u001b[1;32m    360\u001b[0m \u001b[43m      \u001b[49m\u001b[43mthink\u001b[49m\u001b[38;5;241;43m=\u001b[39;49m\u001b[43mthink\u001b[49m\u001b[43m,\u001b[49m\n\u001b[1;32m    361\u001b[0m \u001b[43m      \u001b[49m\u001b[38;5;28;43mformat\u001b[39;49m\u001b[38;5;241;43m=\u001b[39;49m\u001b[38;5;28;43mformat\u001b[39;49m\u001b[43m,\u001b[49m\n\u001b[1;32m    362\u001b[0m \u001b[43m      \u001b[49m\u001b[43moptions\u001b[49m\u001b[38;5;241;43m=\u001b[39;49m\u001b[43moptions\u001b[49m\u001b[43m,\u001b[49m\n\u001b[1;32m    363\u001b[0m \u001b[43m      \u001b[49m\u001b[43mkeep_alive\u001b[49m\u001b[38;5;241;43m=\u001b[39;49m\u001b[43mkeep_alive\u001b[49m\u001b[43m,\u001b[49m\n\u001b[1;32m    364\u001b[0m \u001b[43m    \u001b[49m\u001b[43m)\u001b[49m\u001b[38;5;241;43m.\u001b[39;49m\u001b[43mmodel_dump\u001b[49m\u001b[43m(\u001b[49m\u001b[43mexclude_none\u001b[49m\u001b[38;5;241;43m=\u001b[39;49m\u001b[38;5;28;43;01mTrue\u001b[39;49;00m\u001b[43m)\u001b[49m\u001b[43m,\u001b[49m\n\u001b[1;32m    365\u001b[0m \u001b[43m    \u001b[49m\u001b[43mstream\u001b[49m\u001b[38;5;241;43m=\u001b[39;49m\u001b[43mstream\u001b[49m\u001b[43m,\u001b[49m\n\u001b[1;32m    366\u001b[0m \u001b[43m  \u001b[49m\u001b[43m)\u001b[49m\n",
      "File \u001b[0;32m/opt/homebrew/Caskroom/miniconda/base/envs/tesis/lib/python3.13/site-packages/ollama/_client.py:189\u001b[0m, in \u001b[0;36mClient._request\u001b[0;34m(self, cls, stream, *args, **kwargs)\u001b[0m\n\u001b[1;32m    185\u001b[0m         \u001b[38;5;28;01myield\u001b[39;00m \u001b[38;5;28mcls\u001b[39m(\u001b[38;5;241m*\u001b[39m\u001b[38;5;241m*\u001b[39mpart)\n\u001b[1;32m    187\u001b[0m   \u001b[38;5;28;01mreturn\u001b[39;00m inner()\n\u001b[0;32m--> 189\u001b[0m \u001b[38;5;28;01mreturn\u001b[39;00m \u001b[38;5;28mcls\u001b[39m(\u001b[38;5;241m*\u001b[39m\u001b[38;5;241m*\u001b[39m\u001b[38;5;28;43mself\u001b[39;49m\u001b[38;5;241;43m.\u001b[39;49m\u001b[43m_request_raw\u001b[49m\u001b[43m(\u001b[49m\u001b[38;5;241;43m*\u001b[39;49m\u001b[43margs\u001b[49m\u001b[43m,\u001b[49m\u001b[43m \u001b[49m\u001b[38;5;241;43m*\u001b[39;49m\u001b[38;5;241;43m*\u001b[39;49m\u001b[43mkwargs\u001b[49m\u001b[43m)\u001b[49m\u001b[38;5;241m.\u001b[39mjson())\n",
      "File \u001b[0;32m/opt/homebrew/Caskroom/miniconda/base/envs/tesis/lib/python3.13/site-packages/ollama/_client.py:129\u001b[0m, in \u001b[0;36mClient._request_raw\u001b[0;34m(self, *args, **kwargs)\u001b[0m\n\u001b[1;32m    127\u001b[0m \u001b[38;5;28;01mdef\u001b[39;00m\u001b[38;5;250m \u001b[39m\u001b[38;5;21m_request_raw\u001b[39m(\u001b[38;5;28mself\u001b[39m, \u001b[38;5;241m*\u001b[39margs, \u001b[38;5;241m*\u001b[39m\u001b[38;5;241m*\u001b[39mkwargs):\n\u001b[1;32m    128\u001b[0m   \u001b[38;5;28;01mtry\u001b[39;00m:\n\u001b[0;32m--> 129\u001b[0m     r \u001b[38;5;241m=\u001b[39m \u001b[38;5;28;43mself\u001b[39;49m\u001b[38;5;241;43m.\u001b[39;49m\u001b[43m_client\u001b[49m\u001b[38;5;241;43m.\u001b[39;49m\u001b[43mrequest\u001b[49m\u001b[43m(\u001b[49m\u001b[38;5;241;43m*\u001b[39;49m\u001b[43margs\u001b[49m\u001b[43m,\u001b[49m\u001b[43m \u001b[49m\u001b[38;5;241;43m*\u001b[39;49m\u001b[38;5;241;43m*\u001b[39;49m\u001b[43mkwargs\u001b[49m\u001b[43m)\u001b[49m\n\u001b[1;32m    130\u001b[0m     r\u001b[38;5;241m.\u001b[39mraise_for_status()\n\u001b[1;32m    131\u001b[0m     \u001b[38;5;28;01mreturn\u001b[39;00m r\n",
      "File \u001b[0;32m/opt/homebrew/Caskroom/miniconda/base/envs/tesis/lib/python3.13/site-packages/httpx/_client.py:825\u001b[0m, in \u001b[0;36mClient.request\u001b[0;34m(self, method, url, content, data, files, json, params, headers, cookies, auth, follow_redirects, timeout, extensions)\u001b[0m\n\u001b[1;32m    810\u001b[0m     warnings\u001b[38;5;241m.\u001b[39mwarn(message, \u001b[38;5;167;01mDeprecationWarning\u001b[39;00m, stacklevel\u001b[38;5;241m=\u001b[39m\u001b[38;5;241m2\u001b[39m)\n\u001b[1;32m    812\u001b[0m request \u001b[38;5;241m=\u001b[39m \u001b[38;5;28mself\u001b[39m\u001b[38;5;241m.\u001b[39mbuild_request(\n\u001b[1;32m    813\u001b[0m     method\u001b[38;5;241m=\u001b[39mmethod,\n\u001b[1;32m    814\u001b[0m     url\u001b[38;5;241m=\u001b[39murl,\n\u001b[0;32m   (...)\u001b[0m\n\u001b[1;32m    823\u001b[0m     extensions\u001b[38;5;241m=\u001b[39mextensions,\n\u001b[1;32m    824\u001b[0m )\n\u001b[0;32m--> 825\u001b[0m \u001b[38;5;28;01mreturn\u001b[39;00m \u001b[38;5;28;43mself\u001b[39;49m\u001b[38;5;241;43m.\u001b[39;49m\u001b[43msend\u001b[49m\u001b[43m(\u001b[49m\u001b[43mrequest\u001b[49m\u001b[43m,\u001b[49m\u001b[43m \u001b[49m\u001b[43mauth\u001b[49m\u001b[38;5;241;43m=\u001b[39;49m\u001b[43mauth\u001b[49m\u001b[43m,\u001b[49m\u001b[43m \u001b[49m\u001b[43mfollow_redirects\u001b[49m\u001b[38;5;241;43m=\u001b[39;49m\u001b[43mfollow_redirects\u001b[49m\u001b[43m)\u001b[49m\n",
      "File \u001b[0;32m/opt/homebrew/Caskroom/miniconda/base/envs/tesis/lib/python3.13/site-packages/httpx/_client.py:914\u001b[0m, in \u001b[0;36mClient.send\u001b[0;34m(self, request, stream, auth, follow_redirects)\u001b[0m\n\u001b[1;32m    910\u001b[0m \u001b[38;5;28mself\u001b[39m\u001b[38;5;241m.\u001b[39m_set_timeout(request)\n\u001b[1;32m    912\u001b[0m auth \u001b[38;5;241m=\u001b[39m \u001b[38;5;28mself\u001b[39m\u001b[38;5;241m.\u001b[39m_build_request_auth(request, auth)\n\u001b[0;32m--> 914\u001b[0m response \u001b[38;5;241m=\u001b[39m \u001b[38;5;28;43mself\u001b[39;49m\u001b[38;5;241;43m.\u001b[39;49m\u001b[43m_send_handling_auth\u001b[49m\u001b[43m(\u001b[49m\n\u001b[1;32m    915\u001b[0m \u001b[43m    \u001b[49m\u001b[43mrequest\u001b[49m\u001b[43m,\u001b[49m\n\u001b[1;32m    916\u001b[0m \u001b[43m    \u001b[49m\u001b[43mauth\u001b[49m\u001b[38;5;241;43m=\u001b[39;49m\u001b[43mauth\u001b[49m\u001b[43m,\u001b[49m\n\u001b[1;32m    917\u001b[0m \u001b[43m    \u001b[49m\u001b[43mfollow_redirects\u001b[49m\u001b[38;5;241;43m=\u001b[39;49m\u001b[43mfollow_redirects\u001b[49m\u001b[43m,\u001b[49m\n\u001b[1;32m    918\u001b[0m \u001b[43m    \u001b[49m\u001b[43mhistory\u001b[49m\u001b[38;5;241;43m=\u001b[39;49m\u001b[43m[\u001b[49m\u001b[43m]\u001b[49m\u001b[43m,\u001b[49m\n\u001b[1;32m    919\u001b[0m \u001b[43m\u001b[49m\u001b[43m)\u001b[49m\n\u001b[1;32m    920\u001b[0m \u001b[38;5;28;01mtry\u001b[39;00m:\n\u001b[1;32m    921\u001b[0m     \u001b[38;5;28;01mif\u001b[39;00m \u001b[38;5;129;01mnot\u001b[39;00m stream:\n",
      "File \u001b[0;32m/opt/homebrew/Caskroom/miniconda/base/envs/tesis/lib/python3.13/site-packages/httpx/_client.py:942\u001b[0m, in \u001b[0;36mClient._send_handling_auth\u001b[0;34m(self, request, auth, follow_redirects, history)\u001b[0m\n\u001b[1;32m    939\u001b[0m request \u001b[38;5;241m=\u001b[39m \u001b[38;5;28mnext\u001b[39m(auth_flow)\n\u001b[1;32m    941\u001b[0m \u001b[38;5;28;01mwhile\u001b[39;00m \u001b[38;5;28;01mTrue\u001b[39;00m:\n\u001b[0;32m--> 942\u001b[0m     response \u001b[38;5;241m=\u001b[39m \u001b[38;5;28;43mself\u001b[39;49m\u001b[38;5;241;43m.\u001b[39;49m\u001b[43m_send_handling_redirects\u001b[49m\u001b[43m(\u001b[49m\n\u001b[1;32m    943\u001b[0m \u001b[43m        \u001b[49m\u001b[43mrequest\u001b[49m\u001b[43m,\u001b[49m\n\u001b[1;32m    944\u001b[0m \u001b[43m        \u001b[49m\u001b[43mfollow_redirects\u001b[49m\u001b[38;5;241;43m=\u001b[39;49m\u001b[43mfollow_redirects\u001b[49m\u001b[43m,\u001b[49m\n\u001b[1;32m    945\u001b[0m \u001b[43m        \u001b[49m\u001b[43mhistory\u001b[49m\u001b[38;5;241;43m=\u001b[39;49m\u001b[43mhistory\u001b[49m\u001b[43m,\u001b[49m\n\u001b[1;32m    946\u001b[0m \u001b[43m    \u001b[49m\u001b[43m)\u001b[49m\n\u001b[1;32m    947\u001b[0m     \u001b[38;5;28;01mtry\u001b[39;00m:\n\u001b[1;32m    948\u001b[0m         \u001b[38;5;28;01mtry\u001b[39;00m:\n",
      "File \u001b[0;32m/opt/homebrew/Caskroom/miniconda/base/envs/tesis/lib/python3.13/site-packages/httpx/_client.py:979\u001b[0m, in \u001b[0;36mClient._send_handling_redirects\u001b[0;34m(self, request, follow_redirects, history)\u001b[0m\n\u001b[1;32m    976\u001b[0m \u001b[38;5;28;01mfor\u001b[39;00m hook \u001b[38;5;129;01min\u001b[39;00m \u001b[38;5;28mself\u001b[39m\u001b[38;5;241m.\u001b[39m_event_hooks[\u001b[38;5;124m\"\u001b[39m\u001b[38;5;124mrequest\u001b[39m\u001b[38;5;124m\"\u001b[39m]:\n\u001b[1;32m    977\u001b[0m     hook(request)\n\u001b[0;32m--> 979\u001b[0m response \u001b[38;5;241m=\u001b[39m \u001b[38;5;28;43mself\u001b[39;49m\u001b[38;5;241;43m.\u001b[39;49m\u001b[43m_send_single_request\u001b[49m\u001b[43m(\u001b[49m\u001b[43mrequest\u001b[49m\u001b[43m)\u001b[49m\n\u001b[1;32m    980\u001b[0m \u001b[38;5;28;01mtry\u001b[39;00m:\n\u001b[1;32m    981\u001b[0m     \u001b[38;5;28;01mfor\u001b[39;00m hook \u001b[38;5;129;01min\u001b[39;00m \u001b[38;5;28mself\u001b[39m\u001b[38;5;241m.\u001b[39m_event_hooks[\u001b[38;5;124m\"\u001b[39m\u001b[38;5;124mresponse\u001b[39m\u001b[38;5;124m\"\u001b[39m]:\n",
      "File \u001b[0;32m/opt/homebrew/Caskroom/miniconda/base/envs/tesis/lib/python3.13/site-packages/httpx/_client.py:1014\u001b[0m, in \u001b[0;36mClient._send_single_request\u001b[0;34m(self, request)\u001b[0m\n\u001b[1;32m   1009\u001b[0m     \u001b[38;5;28;01mraise\u001b[39;00m \u001b[38;5;167;01mRuntimeError\u001b[39;00m(\n\u001b[1;32m   1010\u001b[0m         \u001b[38;5;124m\"\u001b[39m\u001b[38;5;124mAttempted to send an async request with a sync Client instance.\u001b[39m\u001b[38;5;124m\"\u001b[39m\n\u001b[1;32m   1011\u001b[0m     )\n\u001b[1;32m   1013\u001b[0m \u001b[38;5;28;01mwith\u001b[39;00m request_context(request\u001b[38;5;241m=\u001b[39mrequest):\n\u001b[0;32m-> 1014\u001b[0m     response \u001b[38;5;241m=\u001b[39m \u001b[43mtransport\u001b[49m\u001b[38;5;241;43m.\u001b[39;49m\u001b[43mhandle_request\u001b[49m\u001b[43m(\u001b[49m\u001b[43mrequest\u001b[49m\u001b[43m)\u001b[49m\n\u001b[1;32m   1016\u001b[0m \u001b[38;5;28;01massert\u001b[39;00m \u001b[38;5;28misinstance\u001b[39m(response\u001b[38;5;241m.\u001b[39mstream, SyncByteStream)\n\u001b[1;32m   1018\u001b[0m response\u001b[38;5;241m.\u001b[39mrequest \u001b[38;5;241m=\u001b[39m request\n",
      "File \u001b[0;32m/opt/homebrew/Caskroom/miniconda/base/envs/tesis/lib/python3.13/site-packages/httpx/_transports/default.py:250\u001b[0m, in \u001b[0;36mHTTPTransport.handle_request\u001b[0;34m(self, request)\u001b[0m\n\u001b[1;32m    237\u001b[0m req \u001b[38;5;241m=\u001b[39m httpcore\u001b[38;5;241m.\u001b[39mRequest(\n\u001b[1;32m    238\u001b[0m     method\u001b[38;5;241m=\u001b[39mrequest\u001b[38;5;241m.\u001b[39mmethod,\n\u001b[1;32m    239\u001b[0m     url\u001b[38;5;241m=\u001b[39mhttpcore\u001b[38;5;241m.\u001b[39mURL(\n\u001b[0;32m   (...)\u001b[0m\n\u001b[1;32m    247\u001b[0m     extensions\u001b[38;5;241m=\u001b[39mrequest\u001b[38;5;241m.\u001b[39mextensions,\n\u001b[1;32m    248\u001b[0m )\n\u001b[1;32m    249\u001b[0m \u001b[38;5;28;01mwith\u001b[39;00m map_httpcore_exceptions():\n\u001b[0;32m--> 250\u001b[0m     resp \u001b[38;5;241m=\u001b[39m \u001b[38;5;28;43mself\u001b[39;49m\u001b[38;5;241;43m.\u001b[39;49m\u001b[43m_pool\u001b[49m\u001b[38;5;241;43m.\u001b[39;49m\u001b[43mhandle_request\u001b[49m\u001b[43m(\u001b[49m\u001b[43mreq\u001b[49m\u001b[43m)\u001b[49m\n\u001b[1;32m    252\u001b[0m \u001b[38;5;28;01massert\u001b[39;00m \u001b[38;5;28misinstance\u001b[39m(resp\u001b[38;5;241m.\u001b[39mstream, typing\u001b[38;5;241m.\u001b[39mIterable)\n\u001b[1;32m    254\u001b[0m \u001b[38;5;28;01mreturn\u001b[39;00m Response(\n\u001b[1;32m    255\u001b[0m     status_code\u001b[38;5;241m=\u001b[39mresp\u001b[38;5;241m.\u001b[39mstatus,\n\u001b[1;32m    256\u001b[0m     headers\u001b[38;5;241m=\u001b[39mresp\u001b[38;5;241m.\u001b[39mheaders,\n\u001b[1;32m    257\u001b[0m     stream\u001b[38;5;241m=\u001b[39mResponseStream(resp\u001b[38;5;241m.\u001b[39mstream),\n\u001b[1;32m    258\u001b[0m     extensions\u001b[38;5;241m=\u001b[39mresp\u001b[38;5;241m.\u001b[39mextensions,\n\u001b[1;32m    259\u001b[0m )\n",
      "File \u001b[0;32m/opt/homebrew/Caskroom/miniconda/base/envs/tesis/lib/python3.13/site-packages/httpcore/_sync/connection_pool.py:256\u001b[0m, in \u001b[0;36mConnectionPool.handle_request\u001b[0;34m(self, request)\u001b[0m\n\u001b[1;32m    253\u001b[0m         closing \u001b[38;5;241m=\u001b[39m \u001b[38;5;28mself\u001b[39m\u001b[38;5;241m.\u001b[39m_assign_requests_to_connections()\n\u001b[1;32m    255\u001b[0m     \u001b[38;5;28mself\u001b[39m\u001b[38;5;241m.\u001b[39m_close_connections(closing)\n\u001b[0;32m--> 256\u001b[0m     \u001b[38;5;28;01mraise\u001b[39;00m exc \u001b[38;5;28;01mfrom\u001b[39;00m\u001b[38;5;250m \u001b[39m\u001b[38;5;28;01mNone\u001b[39;00m\n\u001b[1;32m    258\u001b[0m \u001b[38;5;66;03m# Return the response. Note that in this case we still have to manage\u001b[39;00m\n\u001b[1;32m    259\u001b[0m \u001b[38;5;66;03m# the point at which the response is closed.\u001b[39;00m\n\u001b[1;32m    260\u001b[0m \u001b[38;5;28;01massert\u001b[39;00m \u001b[38;5;28misinstance\u001b[39m(response\u001b[38;5;241m.\u001b[39mstream, typing\u001b[38;5;241m.\u001b[39mIterable)\n",
      "File \u001b[0;32m/opt/homebrew/Caskroom/miniconda/base/envs/tesis/lib/python3.13/site-packages/httpcore/_sync/connection_pool.py:236\u001b[0m, in \u001b[0;36mConnectionPool.handle_request\u001b[0;34m(self, request)\u001b[0m\n\u001b[1;32m    232\u001b[0m connection \u001b[38;5;241m=\u001b[39m pool_request\u001b[38;5;241m.\u001b[39mwait_for_connection(timeout\u001b[38;5;241m=\u001b[39mtimeout)\n\u001b[1;32m    234\u001b[0m \u001b[38;5;28;01mtry\u001b[39;00m:\n\u001b[1;32m    235\u001b[0m     \u001b[38;5;66;03m# Send the request on the assigned connection.\u001b[39;00m\n\u001b[0;32m--> 236\u001b[0m     response \u001b[38;5;241m=\u001b[39m \u001b[43mconnection\u001b[49m\u001b[38;5;241;43m.\u001b[39;49m\u001b[43mhandle_request\u001b[49m\u001b[43m(\u001b[49m\n\u001b[1;32m    237\u001b[0m \u001b[43m        \u001b[49m\u001b[43mpool_request\u001b[49m\u001b[38;5;241;43m.\u001b[39;49m\u001b[43mrequest\u001b[49m\n\u001b[1;32m    238\u001b[0m \u001b[43m    \u001b[49m\u001b[43m)\u001b[49m\n\u001b[1;32m    239\u001b[0m \u001b[38;5;28;01mexcept\u001b[39;00m ConnectionNotAvailable:\n\u001b[1;32m    240\u001b[0m     \u001b[38;5;66;03m# In some cases a connection may initially be available to\u001b[39;00m\n\u001b[1;32m    241\u001b[0m     \u001b[38;5;66;03m# handle a request, but then become unavailable.\u001b[39;00m\n\u001b[1;32m    242\u001b[0m     \u001b[38;5;66;03m#\u001b[39;00m\n\u001b[1;32m    243\u001b[0m     \u001b[38;5;66;03m# In this case we clear the connection and try again.\u001b[39;00m\n\u001b[1;32m    244\u001b[0m     pool_request\u001b[38;5;241m.\u001b[39mclear_connection()\n",
      "File \u001b[0;32m/opt/homebrew/Caskroom/miniconda/base/envs/tesis/lib/python3.13/site-packages/httpcore/_sync/connection.py:103\u001b[0m, in \u001b[0;36mHTTPConnection.handle_request\u001b[0;34m(self, request)\u001b[0m\n\u001b[1;32m    100\u001b[0m     \u001b[38;5;28mself\u001b[39m\u001b[38;5;241m.\u001b[39m_connect_failed \u001b[38;5;241m=\u001b[39m \u001b[38;5;28;01mTrue\u001b[39;00m\n\u001b[1;32m    101\u001b[0m     \u001b[38;5;28;01mraise\u001b[39;00m exc\n\u001b[0;32m--> 103\u001b[0m \u001b[38;5;28;01mreturn\u001b[39;00m \u001b[38;5;28;43mself\u001b[39;49m\u001b[38;5;241;43m.\u001b[39;49m\u001b[43m_connection\u001b[49m\u001b[38;5;241;43m.\u001b[39;49m\u001b[43mhandle_request\u001b[49m\u001b[43m(\u001b[49m\u001b[43mrequest\u001b[49m\u001b[43m)\u001b[49m\n",
      "File \u001b[0;32m/opt/homebrew/Caskroom/miniconda/base/envs/tesis/lib/python3.13/site-packages/httpcore/_sync/http11.py:136\u001b[0m, in \u001b[0;36mHTTP11Connection.handle_request\u001b[0;34m(self, request)\u001b[0m\n\u001b[1;32m    134\u001b[0m     \u001b[38;5;28;01mwith\u001b[39;00m Trace(\u001b[38;5;124m\"\u001b[39m\u001b[38;5;124mresponse_closed\u001b[39m\u001b[38;5;124m\"\u001b[39m, logger, request) \u001b[38;5;28;01mas\u001b[39;00m trace:\n\u001b[1;32m    135\u001b[0m         \u001b[38;5;28mself\u001b[39m\u001b[38;5;241m.\u001b[39m_response_closed()\n\u001b[0;32m--> 136\u001b[0m \u001b[38;5;28;01mraise\u001b[39;00m exc\n",
      "File \u001b[0;32m/opt/homebrew/Caskroom/miniconda/base/envs/tesis/lib/python3.13/site-packages/httpcore/_sync/http11.py:106\u001b[0m, in \u001b[0;36mHTTP11Connection.handle_request\u001b[0;34m(self, request)\u001b[0m\n\u001b[1;32m     95\u001b[0m     \u001b[38;5;28;01mpass\u001b[39;00m\n\u001b[1;32m     97\u001b[0m \u001b[38;5;28;01mwith\u001b[39;00m Trace(\n\u001b[1;32m     98\u001b[0m     \u001b[38;5;124m\"\u001b[39m\u001b[38;5;124mreceive_response_headers\u001b[39m\u001b[38;5;124m\"\u001b[39m, logger, request, kwargs\n\u001b[1;32m     99\u001b[0m ) \u001b[38;5;28;01mas\u001b[39;00m trace:\n\u001b[1;32m    100\u001b[0m     (\n\u001b[1;32m    101\u001b[0m         http_version,\n\u001b[1;32m    102\u001b[0m         status,\n\u001b[1;32m    103\u001b[0m         reason_phrase,\n\u001b[1;32m    104\u001b[0m         headers,\n\u001b[1;32m    105\u001b[0m         trailing_data,\n\u001b[0;32m--> 106\u001b[0m     ) \u001b[38;5;241m=\u001b[39m \u001b[38;5;28;43mself\u001b[39;49m\u001b[38;5;241;43m.\u001b[39;49m\u001b[43m_receive_response_headers\u001b[49m\u001b[43m(\u001b[49m\u001b[38;5;241;43m*\u001b[39;49m\u001b[38;5;241;43m*\u001b[39;49m\u001b[43mkwargs\u001b[49m\u001b[43m)\u001b[49m\n\u001b[1;32m    107\u001b[0m     trace\u001b[38;5;241m.\u001b[39mreturn_value \u001b[38;5;241m=\u001b[39m (\n\u001b[1;32m    108\u001b[0m         http_version,\n\u001b[1;32m    109\u001b[0m         status,\n\u001b[1;32m    110\u001b[0m         reason_phrase,\n\u001b[1;32m    111\u001b[0m         headers,\n\u001b[1;32m    112\u001b[0m     )\n\u001b[1;32m    114\u001b[0m network_stream \u001b[38;5;241m=\u001b[39m \u001b[38;5;28mself\u001b[39m\u001b[38;5;241m.\u001b[39m_network_stream\n",
      "File \u001b[0;32m/opt/homebrew/Caskroom/miniconda/base/envs/tesis/lib/python3.13/site-packages/httpcore/_sync/http11.py:177\u001b[0m, in \u001b[0;36mHTTP11Connection._receive_response_headers\u001b[0;34m(self, request)\u001b[0m\n\u001b[1;32m    174\u001b[0m timeout \u001b[38;5;241m=\u001b[39m timeouts\u001b[38;5;241m.\u001b[39mget(\u001b[38;5;124m\"\u001b[39m\u001b[38;5;124mread\u001b[39m\u001b[38;5;124m\"\u001b[39m, \u001b[38;5;28;01mNone\u001b[39;00m)\n\u001b[1;32m    176\u001b[0m \u001b[38;5;28;01mwhile\u001b[39;00m \u001b[38;5;28;01mTrue\u001b[39;00m:\n\u001b[0;32m--> 177\u001b[0m     event \u001b[38;5;241m=\u001b[39m \u001b[38;5;28;43mself\u001b[39;49m\u001b[38;5;241;43m.\u001b[39;49m\u001b[43m_receive_event\u001b[49m\u001b[43m(\u001b[49m\u001b[43mtimeout\u001b[49m\u001b[38;5;241;43m=\u001b[39;49m\u001b[43mtimeout\u001b[49m\u001b[43m)\u001b[49m\n\u001b[1;32m    178\u001b[0m     \u001b[38;5;28;01mif\u001b[39;00m \u001b[38;5;28misinstance\u001b[39m(event, h11\u001b[38;5;241m.\u001b[39mResponse):\n\u001b[1;32m    179\u001b[0m         \u001b[38;5;28;01mbreak\u001b[39;00m\n",
      "File \u001b[0;32m/opt/homebrew/Caskroom/miniconda/base/envs/tesis/lib/python3.13/site-packages/httpcore/_sync/http11.py:217\u001b[0m, in \u001b[0;36mHTTP11Connection._receive_event\u001b[0;34m(self, timeout)\u001b[0m\n\u001b[1;32m    214\u001b[0m     event \u001b[38;5;241m=\u001b[39m \u001b[38;5;28mself\u001b[39m\u001b[38;5;241m.\u001b[39m_h11_state\u001b[38;5;241m.\u001b[39mnext_event()\n\u001b[1;32m    216\u001b[0m \u001b[38;5;28;01mif\u001b[39;00m event \u001b[38;5;129;01mis\u001b[39;00m h11\u001b[38;5;241m.\u001b[39mNEED_DATA:\n\u001b[0;32m--> 217\u001b[0m     data \u001b[38;5;241m=\u001b[39m \u001b[38;5;28;43mself\u001b[39;49m\u001b[38;5;241;43m.\u001b[39;49m\u001b[43m_network_stream\u001b[49m\u001b[38;5;241;43m.\u001b[39;49m\u001b[43mread\u001b[49m\u001b[43m(\u001b[49m\n\u001b[1;32m    218\u001b[0m \u001b[43m        \u001b[49m\u001b[38;5;28;43mself\u001b[39;49m\u001b[38;5;241;43m.\u001b[39;49m\u001b[43mREAD_NUM_BYTES\u001b[49m\u001b[43m,\u001b[49m\u001b[43m \u001b[49m\u001b[43mtimeout\u001b[49m\u001b[38;5;241;43m=\u001b[39;49m\u001b[43mtimeout\u001b[49m\n\u001b[1;32m    219\u001b[0m \u001b[43m    \u001b[49m\u001b[43m)\u001b[49m\n\u001b[1;32m    221\u001b[0m     \u001b[38;5;66;03m# If we feed this case through h11 we'll raise an exception like:\u001b[39;00m\n\u001b[1;32m    222\u001b[0m     \u001b[38;5;66;03m#\u001b[39;00m\n\u001b[1;32m    223\u001b[0m     \u001b[38;5;66;03m#     httpcore.RemoteProtocolError: can't handle event type\u001b[39;00m\n\u001b[0;32m   (...)\u001b[0m\n\u001b[1;32m    227\u001b[0m     \u001b[38;5;66;03m# perspective. Instead we handle this case distinctly and treat\u001b[39;00m\n\u001b[1;32m    228\u001b[0m     \u001b[38;5;66;03m# it as a ConnectError.\u001b[39;00m\n\u001b[1;32m    229\u001b[0m     \u001b[38;5;28;01mif\u001b[39;00m data \u001b[38;5;241m==\u001b[39m \u001b[38;5;124mb\u001b[39m\u001b[38;5;124m\"\u001b[39m\u001b[38;5;124m\"\u001b[39m \u001b[38;5;129;01mand\u001b[39;00m \u001b[38;5;28mself\u001b[39m\u001b[38;5;241m.\u001b[39m_h11_state\u001b[38;5;241m.\u001b[39mtheir_state \u001b[38;5;241m==\u001b[39m h11\u001b[38;5;241m.\u001b[39mSEND_RESPONSE:\n",
      "File \u001b[0;32m/opt/homebrew/Caskroom/miniconda/base/envs/tesis/lib/python3.13/site-packages/httpcore/_backends/sync.py:128\u001b[0m, in \u001b[0;36mSyncStream.read\u001b[0;34m(self, max_bytes, timeout)\u001b[0m\n\u001b[1;32m    126\u001b[0m \u001b[38;5;28;01mwith\u001b[39;00m map_exceptions(exc_map):\n\u001b[1;32m    127\u001b[0m     \u001b[38;5;28mself\u001b[39m\u001b[38;5;241m.\u001b[39m_sock\u001b[38;5;241m.\u001b[39msettimeout(timeout)\n\u001b[0;32m--> 128\u001b[0m     \u001b[38;5;28;01mreturn\u001b[39;00m \u001b[38;5;28;43mself\u001b[39;49m\u001b[38;5;241;43m.\u001b[39;49m\u001b[43m_sock\u001b[49m\u001b[38;5;241;43m.\u001b[39;49m\u001b[43mrecv\u001b[49m\u001b[43m(\u001b[49m\u001b[43mmax_bytes\u001b[49m\u001b[43m)\u001b[49m\n",
      "\u001b[0;31mKeyboardInterrupt\u001b[0m: "
     ]
    }
   ],
   "source": [
    "# Ejecutar\n",
    "result_robust = robust_pipeline.run(use_cache=False)\n",
    "\n",
    "print(\"\\n📊 Resultados (incluyendo errores):\")\n",
    "display(result_robust[['task', 'status', 'error']])"
   ]
  },
  {
   "cell_type": "code",
   "execution_count": 24,
   "metadata": {},
   "outputs": [
    {
     "name": "stdout",
     "output_type": "stream",
     "text": [
      "\n",
      "✅ 0 de 4 fueron exitosos\n"
     ]
    },
    {
     "data": {
      "application/vnd.microsoft.datawrangler.viewer.v0+json": {
       "columns": [
        {
         "name": "index",
         "rawType": "int64",
         "type": "integer"
        },
        {
         "name": "task",
         "rawType": "object",
         "type": "string"
        },
        {
         "name": "code",
         "rawType": "object",
         "type": "string"
        }
       ],
       "ref": "ab106a4f-2d52-4a52-8178-6e2cc1574ccb",
       "rows": [],
       "shape": {
        "columns": 2,
        "rows": 0
       }
      },
      "text/html": [
       "<div>\n",
       "<style scoped>\n",
       "    .dataframe tbody tr th:only-of-type {\n",
       "        vertical-align: middle;\n",
       "    }\n",
       "\n",
       "    .dataframe tbody tr th {\n",
       "        vertical-align: top;\n",
       "    }\n",
       "\n",
       "    .dataframe thead th {\n",
       "        text-align: right;\n",
       "    }\n",
       "</style>\n",
       "<table border=\"1\" class=\"dataframe\">\n",
       "  <thead>\n",
       "    <tr style=\"text-align: right;\">\n",
       "      <th></th>\n",
       "      <th>task</th>\n",
       "      <th>code</th>\n",
       "    </tr>\n",
       "  </thead>\n",
       "  <tbody>\n",
       "  </tbody>\n",
       "</table>\n",
       "</div>"
      ],
      "text/plain": [
       "Empty DataFrame\n",
       "Columns: [task, code]\n",
       "Index: []"
      ]
     },
     "metadata": {},
     "output_type": "display_data"
    }
   ],
   "source": [
    "# Ver solo resultados exitosos\n",
    "successful = result_robust[result_robust['status'] == 'success']\n",
    "print(f\"\\n✅ {len(successful)} de {len(result_robust)} fueron exitosos\")\n",
    "display(successful[['task', 'code']])"
   ]
  },
  {
   "cell_type": "markdown",
   "metadata": {},
   "source": [
    "## 5. Análisis de Resultados\n",
    "\n",
    "Análisis más detallado de los resultados generados."
   ]
  },
  {
   "cell_type": "code",
   "execution_count": 25,
   "metadata": {},
   "outputs": [
    {
     "name": "stdout",
     "output_type": "stream",
     "text": [
      "📊 Análisis del Pipeline Básico:\n",
      "Total de filas: 3\n",
      "Columnas: ['concept', 'audience', 'explanation', 'model_name']\n",
      "\n",
      "Longitud promedio de explicaciones: 539 caracteres\n"
     ]
    },
    {
     "ename": "ModuleNotFoundError",
     "evalue": "No module named 'matplotlib'",
     "output_type": "error",
     "traceback": [
      "\u001b[0;31m---------------------------------------------------------------------------\u001b[0m",
      "\u001b[0;31mModuleNotFoundError\u001b[0m                       Traceback (most recent call last)",
      "Cell \u001b[0;32mIn[25], line 11\u001b[0m\n\u001b[1;32m      8\u001b[0m \u001b[38;5;28mprint\u001b[39m(\u001b[38;5;124mf\u001b[39m\u001b[38;5;124m\"\u001b[39m\u001b[38;5;130;01m\\n\u001b[39;00m\u001b[38;5;124mLongitud promedio de explicaciones: \u001b[39m\u001b[38;5;132;01m{\u001b[39;00mresult[\u001b[38;5;124m'\u001b[39m\u001b[38;5;124mexplanation_length\u001b[39m\u001b[38;5;124m'\u001b[39m]\u001b[38;5;241m.\u001b[39mmean()\u001b[38;5;132;01m:\u001b[39;00m\u001b[38;5;124m.0f\u001b[39m\u001b[38;5;132;01m}\u001b[39;00m\u001b[38;5;124m caracteres\u001b[39m\u001b[38;5;124m\"\u001b[39m)\n\u001b[1;32m     10\u001b[0m \u001b[38;5;66;03m# Visualizar\u001b[39;00m\n\u001b[0;32m---> 11\u001b[0m \u001b[38;5;28;01mimport\u001b[39;00m\u001b[38;5;250m \u001b[39m\u001b[38;5;21;01mmatplotlib\u001b[39;00m\u001b[38;5;21;01m.\u001b[39;00m\u001b[38;5;21;01mpyplot\u001b[39;00m\u001b[38;5;250m \u001b[39m\u001b[38;5;28;01mas\u001b[39;00m\u001b[38;5;250m \u001b[39m\u001b[38;5;21;01mplt\u001b[39;00m\n\u001b[1;32m     13\u001b[0m result[\u001b[38;5;124m'\u001b[39m\u001b[38;5;124mexplanation_length\u001b[39m\u001b[38;5;124m'\u001b[39m]\u001b[38;5;241m.\u001b[39mplot(kind\u001b[38;5;241m=\u001b[39m\u001b[38;5;124m'\u001b[39m\u001b[38;5;124mbar\u001b[39m\u001b[38;5;124m'\u001b[39m, title\u001b[38;5;241m=\u001b[39m\u001b[38;5;124m'\u001b[39m\u001b[38;5;124mLongitud de Explicaciones\u001b[39m\u001b[38;5;124m'\u001b[39m)\n\u001b[1;32m     14\u001b[0m plt\u001b[38;5;241m.\u001b[39mylabel(\u001b[38;5;124m'\u001b[39m\u001b[38;5;124mCaracteres\u001b[39m\u001b[38;5;124m'\u001b[39m)\n",
      "\u001b[0;31mModuleNotFoundError\u001b[0m: No module named 'matplotlib'"
     ]
    }
   ],
   "source": [
    "# Estadísticas del pipeline básico\n",
    "print(\"📊 Análisis del Pipeline Básico:\")\n",
    "print(f\"Total de filas: {len(result)}\")\n",
    "print(f\"Columnas: {list(result.columns)}\")\n",
    "\n",
    "# Longitud de explicaciones\n",
    "result['explanation_length'] = result['explanation'].str.len()\n",
    "print(f\"\\nLongitud promedio de explicaciones: {result['explanation_length'].mean():.0f} caracteres\")\n",
    "\n",
    "# Visualizar\n",
    "import matplotlib.pyplot as plt\n",
    "\n",
    "result['explanation_length'].plot(kind='bar', title='Longitud de Explicaciones')\n",
    "plt.ylabel('Caracteres')\n",
    "plt.xlabel('Concepto')\n",
    "plt.xticks(range(len(result)), result['concept'], rotation=45)\n",
    "plt.tight_layout()\n",
    "plt.show()"
   ]
  },
  {
   "cell_type": "markdown",
   "metadata": {},
   "source": [
    "## 🎯 Conclusión\n",
    "\n",
    "Has aprendido a:\n",
    "- ✅ Crear pipelines básicos con SimplePipeline\n",
    "- ✅ Usar filtros y transformaciones\n",
    "- ✅ Manejar errores robustamente\n",
    "- ✅ Analizar resultados\n",
    "\n",
    "### 📚 Próximos pasos:\n",
    "1. Experimenta con diferentes modelos de Ollama\n",
    "2. Crea tus propios steps personalizados\n",
    "3. Prueba con datasets más grandes\n",
    "4. Explora el caching para acelerar iteraciones"
   ]
  },
  {
   "cell_type": "markdown",
   "metadata": {},
   "source": [
    "## 🧹 Limpieza\n",
    "\n",
    "Opcional: limpiar cache de los pipelines"
   ]
  },
  {
   "cell_type": "code",
   "execution_count": null,
   "metadata": {},
   "outputs": [],
   "source": [
    "# Descomentar para limpiar cache\n",
    "# pipeline.clear_cache()\n",
    "# transform_pipeline.clear_cache()\n",
    "# robust_pipeline.clear_cache()\n",
    "# print(\"✅ Cache limpiada\")"
   ]
  }
 ],
 "metadata": {
  "kernelspec": {
   "display_name": "tesis",
   "language": "python",
   "name": "python3"
  },
  "language_info": {
   "codemirror_mode": {
    "name": "ipython",
    "version": 3
   },
   "file_extension": ".py",
   "mimetype": "text/x-python",
   "name": "python",
   "nbconvert_exporter": "python",
   "pygments_lexer": "ipython3",
   "version": "3.13.7"
  }
 },
 "nbformat": 4,
 "nbformat_minor": 4
}
