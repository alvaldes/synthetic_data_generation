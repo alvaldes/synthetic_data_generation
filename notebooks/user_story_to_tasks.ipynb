{
 "cells": [
  {
   "cell_type": "markdown",
   "metadata": {},
   "source": [
    "# 📝 User Story to Development Tasks Pipeline\n",
    "\n",
    "Este notebook genera tareas de desarrollo a partir de historias de usuario usando Simple Pipeline y Ollama.\n",
    "\n",
    "## 📋 Objetivo\n",
    "- **Input**: Historias de usuario con columna `input` (JSON con project, summary, description)\n",
    "- **Output**: Lista de tareas de desarrollo para cada historia\n",
    "\n",
    "## 🔄 Pipeline\n",
    "1. Cargar dataset de historias de usuario\n",
    "2. Generar tareas con Ollama usando prompt específico\n",
    "3. Post-procesar y parsear resultados\n",
    "4. Analizar y exportar"
   ]
  },
  {
   "cell_type": "markdown",
   "metadata": {},
   "source": [
    "## 1. Setup e Imports"
   ]
  },
  {
   "cell_type": "code",
   "execution_count": 23,
   "metadata": {},
   "outputs": [
    {
     "name": "stdout",
     "output_type": "stream",
     "text": [
      "✅ Imports completados\n"
     ]
    }
   ],
   "source": [
    "import pandas as pd\n",
    "import json\n",
    "import re\n",
    "import sys\n",
    "from pathlib import Path\n",
    "from typing import Dict, List\n",
    "import matplotlib.pyplot as plt\n",
    "import seaborn as sns\n",
    "\n",
    "# Agregar el directorio padre al path\n",
    "sys.path.insert(0, str(Path.cwd().parent))\n",
    "\n",
    "from simple_pipeline import SimplePipeline\n",
    "from simple_pipeline.steps import (\n",
    "    LoadDataFrame,\n",
    "    RobustOllamaStep,\n",
    "    OllamaLLMStep,\n",
    "    KeepColumns\n",
    ")\n",
    "\n",
    "# Configurar visualización\n",
    "sns.set_style(\"whitegrid\")\n",
    "plt.rcParams['figure.figsize'] = (12, 6)\n",
    "\n",
    "print(\"✅ Imports completados\")"
   ]
  },
  {
   "cell_type": "markdown",
   "metadata": {},
   "source": [
    "## 2. Cargar Dataset\n",
    "\n",
    "**Importante**: Tu dataset debe tener una columna `input` con JSON en formato:\n",
    "```json\n",
    "{\n",
    "  \"project\": \"Nombre del proyecto\",\n",
    "  \"summary\": \"Resumen de la historia\",\n",
    "  \"description\": \"Descripción detallada\"\n",
    "}\n",
    "```"
   ]
  },
  {
   "cell_type": "code",
   "execution_count": 24,
   "metadata": {},
   "outputs": [
    {
     "name": "stdout",
     "output_type": "stream",
     "text": [
      "✅ Dataset cargado: 5 historias de usuario\n",
      "\n",
      "Columnas: ['input']\n",
      "\n",
      "Primera historia (raw):\n",
      "{\"project\": \"E-commerce Platform\", \"summary\": \"User login with email and password\", \"description\": \"As a user, I want to log in to the platform using my email and password so that I can access my acco...\n"
     ]
    }
   ],
   "source": [
    "# Opción 1: Cargar tu dataset existente\n",
    "# df = pd.read_csv('path/to/your/user_stories.csv')\n",
    "\n",
    "# Opción 2: Crear dataset de ejemplo\n",
    "sample_user_stories = [\n",
    "    {\n",
    "        \"input\": json.dumps({\n",
    "            \"project\": \"E-commerce Platform\",\n",
    "            \"summary\": \"User login with email and password\",\n",
    "            \"description\": \"As a user, I want to log in to the platform using my email and password so that I can access my account and make purchases. The system should validate credentials, handle errors gracefully, and provide password recovery options.\"\n",
    "        })\n",
    "    },\n",
    "    {\n",
    "        \"input\": json.dumps({\n",
    "            \"project\": \"Task Management App\",\n",
    "            \"summary\": \"Create and assign tasks to team members\",\n",
    "            \"description\": \"As a project manager, I want to create tasks and assign them to specific team members so that work can be distributed effectively. Each task should have a title, description, due date, priority level, and assignee. The system should send notifications to assigned members.\"\n",
    "        })\n",
    "    },\n",
    "    {\n",
    "        \"input\": json.dumps({\n",
    "            \"project\": \"Social Media Dashboard\",\n",
    "            \"summary\": \"Display analytics for social media posts\",\n",
    "            \"description\": \"As a social media manager, I want to view analytics for all my posts including likes, comments, shares, and reach so that I can measure engagement. The dashboard should support filtering by date range, platform, and post type, with exportable reports.\"\n",
    "        })\n",
    "    },\n",
    "    {\n",
    "        \"input\": json.dumps({\n",
    "            \"project\": \"Healthcare Portal\",\n",
    "            \"summary\": \"Schedule medical appointments online\",\n",
    "            \"description\": \"As a patient, I want to schedule medical appointments online so that I don't have to call the clinic. The system should show available time slots, allow me to select my preferred doctor, send confirmation emails, and provide reminders before the appointment.\"\n",
    "        })\n",
    "    },\n",
    "    {\n",
    "        \"input\": json.dumps({\n",
    "            \"project\": \"Inventory Management System\",\n",
    "            \"summary\": \"Track product stock levels and reorder automatically\",\n",
    "            \"description\": \"As a warehouse manager, I want the system to automatically track stock levels and trigger reorder alerts when inventory falls below minimum thresholds. The system should integrate with suppliers, generate purchase orders, and maintain a complete audit trail of all inventory movements.\"\n",
    "        })\n",
    "    }\n",
    "]\n",
    "\n",
    "df = pd.DataFrame(sample_user_stories)\n",
    "\n",
    "print(f\"✅ Dataset cargado: {len(df)} historias de usuario\")\n",
    "print(f\"\\nColumnas: {list(df.columns)}\")\n",
    "print(f\"\\nPrimera historia (raw):\")\n",
    "print(df['input'].iloc[0][:200] + \"...\")"
   ]
  },
  {
   "cell_type": "code",
   "execution_count": 25,
   "metadata": {},
   "outputs": [
    {
     "name": "stdout",
     "output_type": "stream",
     "text": [
      "📊 Vista previa del dataset:\n"
     ]
    },
    {
     "data": {
      "application/vnd.microsoft.datawrangler.viewer.v0+json": {
       "columns": [
        {
         "name": "index",
         "rawType": "int64",
         "type": "integer"
        },
        {
         "name": "project",
         "rawType": "object",
         "type": "string"
        },
        {
         "name": "summary",
         "rawType": "object",
         "type": "string"
        },
        {
         "name": "description_preview",
         "rawType": "object",
         "type": "string"
        }
       ],
       "ref": "87ba4973-7386-4469-9ca3-a11d73b2c0a7",
       "rows": [
        [
         "0",
         "E-commerce Platform",
         "User login with email and password",
         "As a user, I want to log in to the platform using my email and password so that I can access my acco..."
        ],
        [
         "1",
         "Task Management App",
         "Create and assign tasks to team members",
         "As a project manager, I want to create tasks and assign them to specific team members so that work c..."
        ],
        [
         "2",
         "Social Media Dashboard",
         "Display analytics for social media posts",
         "As a social media manager, I want to view analytics for all my posts including likes, comments, shar..."
        ],
        [
         "3",
         "Healthcare Portal",
         "Schedule medical appointments online",
         "As a patient, I want to schedule medical appointments online so that I don't have to call the clinic..."
        ],
        [
         "4",
         "Inventory Management System",
         "Track product stock levels and reorder automatically",
         "As a warehouse manager, I want the system to automatically track stock levels and trigger reorder al..."
        ]
       ],
       "shape": {
        "columns": 3,
        "rows": 5
       }
      },
      "text/html": [
       "<div>\n",
       "<style scoped>\n",
       "    .dataframe tbody tr th:only-of-type {\n",
       "        vertical-align: middle;\n",
       "    }\n",
       "\n",
       "    .dataframe tbody tr th {\n",
       "        vertical-align: top;\n",
       "    }\n",
       "\n",
       "    .dataframe thead th {\n",
       "        text-align: right;\n",
       "    }\n",
       "</style>\n",
       "<table border=\"1\" class=\"dataframe\">\n",
       "  <thead>\n",
       "    <tr style=\"text-align: right;\">\n",
       "      <th></th>\n",
       "      <th>project</th>\n",
       "      <th>summary</th>\n",
       "      <th>description_preview</th>\n",
       "    </tr>\n",
       "  </thead>\n",
       "  <tbody>\n",
       "    <tr>\n",
       "      <th>0</th>\n",
       "      <td>E-commerce Platform</td>\n",
       "      <td>User login with email and password</td>\n",
       "      <td>As a user, I want to log in to the platform us...</td>\n",
       "    </tr>\n",
       "    <tr>\n",
       "      <th>1</th>\n",
       "      <td>Task Management App</td>\n",
       "      <td>Create and assign tasks to team members</td>\n",
       "      <td>As a project manager, I want to create tasks a...</td>\n",
       "    </tr>\n",
       "    <tr>\n",
       "      <th>2</th>\n",
       "      <td>Social Media Dashboard</td>\n",
       "      <td>Display analytics for social media posts</td>\n",
       "      <td>As a social media manager, I want to view anal...</td>\n",
       "    </tr>\n",
       "    <tr>\n",
       "      <th>3</th>\n",
       "      <td>Healthcare Portal</td>\n",
       "      <td>Schedule medical appointments online</td>\n",
       "      <td>As a patient, I want to schedule medical appoi...</td>\n",
       "    </tr>\n",
       "    <tr>\n",
       "      <th>4</th>\n",
       "      <td>Inventory Management System</td>\n",
       "      <td>Track product stock levels and reorder automat...</td>\n",
       "      <td>As a warehouse manager, I want the system to a...</td>\n",
       "    </tr>\n",
       "  </tbody>\n",
       "</table>\n",
       "</div>"
      ],
      "text/plain": [
       "                       project  \\\n",
       "0          E-commerce Platform   \n",
       "1          Task Management App   \n",
       "2       Social Media Dashboard   \n",
       "3            Healthcare Portal   \n",
       "4  Inventory Management System   \n",
       "\n",
       "                                             summary  \\\n",
       "0                 User login with email and password   \n",
       "1            Create and assign tasks to team members   \n",
       "2           Display analytics for social media posts   \n",
       "3               Schedule medical appointments online   \n",
       "4  Track product stock levels and reorder automat...   \n",
       "\n",
       "                                 description_preview  \n",
       "0  As a user, I want to log in to the platform us...  \n",
       "1  As a project manager, I want to create tasks a...  \n",
       "2  As a social media manager, I want to view anal...  \n",
       "3  As a patient, I want to schedule medical appoi...  \n",
       "4  As a warehouse manager, I want the system to a...  "
      ]
     },
     "metadata": {},
     "output_type": "display_data"
    }
   ],
   "source": [
    "# Parsear el JSON para vista previa\n",
    "def parse_user_story(input_str: str) -> Dict:\n",
    "    try:\n",
    "        return json.loads(input_str)\n",
    "    except:\n",
    "        return {\"project\": \"Unknown\", \"summary\": \"Unknown\", \"description\": input_str}\n",
    "\n",
    "parsed_stories = df['input'].apply(parse_user_story)\n",
    "df['project'] = parsed_stories.apply(lambda x: x['project'])\n",
    "df['summary'] = parsed_stories.apply(lambda x: x['summary'])\n",
    "df['description_preview'] = parsed_stories.apply(lambda x: x['description'][:100] + '...')\n",
    "\n",
    "print(\"📊 Vista previa del dataset:\")\n",
    "display(df[['project', 'summary', 'description_preview']])"
   ]
  },
  {
   "cell_type": "markdown",
   "metadata": {},
   "source": [
    "## 3. Definir Prompt Template\n",
    "\n",
    "Este es el prompt exacto que especificaste."
   ]
  },
  {
   "cell_type": "code",
   "execution_count": 26,
   "metadata": {},
   "outputs": [
    {
     "name": "stdout",
     "output_type": "stream",
     "text": [
      "📝 Ejemplo de prompt generado:\n",
      "================================================================================\n",
      "Below is an instruction that describes a task, paired with an input that provides a user story with this format:\n",
      "\"project\": \"Name of the project\"\n",
      "\"summary\": \"Summary of the user story\"\n",
      "\"description\": \"Description of the user story\"\n",
      "\n",
      "Write a response that appropriately completes the request.\n",
      "\n",
      "\n",
      "Instruction:\n",
      "\n",
      "\n",
      "Break this user story into smaller development tasks to help the developers implement it efficiently. You can divide this user story into as many tasks as needed, depending on its complexity. Each task must be unique, actionable, and non-overlapping.\n",
      "\n",
      "Use the following format for the response:\n",
      "\n",
      "1. summary: ‹task summary 1›\n",
      "description: ‹task description 1›\n",
      "2. summary: ‹task summary 2›\n",
      "description: ‹task description 2›\n",
      "\n",
      "\n",
      "N. summary: ‹task summary N›\n",
      "description: ‹task description N›\n",
      "\n",
      "\n",
      "Input:\n",
      "\n",
      "\n",
      "project: E-commerce Platform\n",
      "summary: User login with email and password\n",
      "description: As a user, I want to log in to the platform using my email and password so that I can access my account and make purchases. The system should validate credentials, handle errors gracefully, and provide password recovery options.\n",
      "\n",
      "\n",
      "Response:\n",
      "================================================================================\n"
     ]
    }
   ],
   "source": [
    "def create_task_generation_prompt(row: Dict) -> str:\n",
    "    \"\"\"\n",
    "    Crea el prompt para generar tareas a partir de una historia de usuario.\n",
    "    \n",
    "    Args:\n",
    "        row: Fila del DataFrame con la columna 'input' que contiene el JSON\n",
    "    \n",
    "    Returns:\n",
    "        Prompt formateado según tu especificación\n",
    "    \"\"\"\n",
    "    # Parsear el input JSON\n",
    "    try:\n",
    "        user_story = json.loads(row['input'])\n",
    "        project = user_story.get('project', 'Unknown Project')\n",
    "        summary = user_story.get('summary', 'No summary')\n",
    "        description = user_story.get('description', 'No description')\n",
    "    except Exception as e:\n",
    "        return f\"Error parsing user story: {e}\"\n",
    "    \n",
    "    # Construir el prompt EXACTO que especificaste\n",
    "    prompt = f\"\"\"Below is an instruction that describes a task, paired with an input that provides a user story with this format:\n",
    "\"project\": \"Name of the project\"\n",
    "\"summary\": \"Summary of the user story\"\n",
    "\"description\": \"Description of the user story\"\n",
    "\n",
    "Write a response that appropriately completes the request.\n",
    "\n",
    "\n",
    "Instruction:\n",
    "\n",
    "\n",
    "Break this user story into smaller development tasks to help the developers implement it efficiently. You can divide this user story into as many tasks as needed, depending on its complexity. Each task must be unique, actionable, and non-overlapping.\n",
    "\n",
    "Use the following format for the response:\n",
    "\n",
    "1. summary: ‹task summary 1›\n",
    "description: ‹task description 1›\n",
    "2. summary: ‹task summary 2›\n",
    "description: ‹task description 2›\n",
    "\n",
    "\n",
    "N. summary: ‹task summary N›\n",
    "description: ‹task description N›\n",
    "\n",
    "\n",
    "Input:\n",
    "\n",
    "\n",
    "project: {project}\n",
    "summary: {summary}\n",
    "description: {description}\n",
    "\n",
    "\n",
    "Response:\"\"\"\n",
    "    \n",
    "    return prompt\n",
    "\n",
    "# Probar el prompt con la primera historia\n",
    "test_prompt = create_task_generation_prompt(df.iloc[0].to_dict())\n",
    "print(\"📝 Ejemplo de prompt generado:\")\n",
    "print(\"=\"*80)\n",
    "print(test_prompt)\n",
    "print(\"=\"*80)"
   ]
  },
  {
   "cell_type": "markdown",
   "metadata": {},
   "source": [
    "## 4. Configurar Pipeline"
   ]
  },
  {
   "cell_type": "code",
   "execution_count": 27,
   "metadata": {},
   "outputs": [
    {
     "name": "stdout",
     "output_type": "stream",
     "text": [
      "⚙️ Configuración:\n",
      "  model_name: llama3.1:8b\n",
      "  batch_size: 2\n",
      "  temperature: 0.7\n",
      "  num_predict: 1000\n"
     ]
    }
   ],
   "source": [
    "# Configuración del modelo y pipeline\n",
    "CONFIG = {\n",
    "    'model_name': 'llama3.1:8b',  # Cambia según tu modelo Ollama\n",
    "    'batch_size': 2,           # Historias procesadas simultáneamente\n",
    "    'temperature': 0.7,\n",
    "    'num_predict': 1000,       # Tokens máximos (tareas pueden ser largas)\n",
    "}\n",
    "\n",
    "print(\"⚙️ Configuración:\")\n",
    "for key, value in CONFIG.items():\n",
    "    print(f\"  {key}: {value}\")"
   ]
  },
  {
   "cell_type": "code",
   "execution_count": 28,
   "metadata": {},
   "outputs": [
    {
     "name": "stderr",
     "output_type": "stream",
     "text": [
      "2025-10-16 23:28:38 - SimplePipeline.user-story-to-tasks - INFO - Added step: load_user_stories\n",
      "2025-10-16 23:28:38 - SimplePipeline.user-story-to-tasks - INFO - Added step: generate_tasks\n"
     ]
    },
    {
     "name": "stdout",
     "output_type": "stream",
     "text": [
      "\n",
      "✅ Pipeline configurado con 2 steps\n"
     ]
    }
   ],
   "source": [
    "# Crear pipeline\n",
    "pipeline = SimplePipeline(\n",
    "    name=\"user-story-to-tasks\",\n",
    "    description=\"Genera tareas de desarrollo a partir de historias de usuario\",\n",
    "    log_level=\"INFO\"\n",
    ")\n",
    "\n",
    "# Step 1: Cargar datos (solo columna input)\n",
    "pipeline.add_step(\n",
    "    LoadDataFrame(\n",
    "        name=\"load_user_stories\",\n",
    "        df=df[['input']]\n",
    "    )\n",
    ")\n",
    "\n",
    "# Step 2: Generar tareas con Ollama\n",
    "pipeline.add_step(\n",
    "    OllamaLLMStep(\n",
    "        name=\"generate_tasks\",\n",
    "        model_name=CONFIG['model_name'],\n",
    "        prompt_column=\"input\",\n",
    "        output_column=\"tasks_raw\",\n",
    "        prompt_template=create_task_generation_prompt,\n",
    "        system_prompt=\"You are an expert software development lead who excels at breaking down user stories into clear, actionable development tasks. Be specific and practical.\",\n",
    "        batch_size=CONFIG['batch_size'],\n",
    "        generation_kwargs={\n",
    "            \"temperature\": CONFIG['temperature'],\n",
    "            \"num_predict\": CONFIG['num_predict']\n",
    "        },\n",
    "    )\n",
    ")\n",
    "\n",
    "print(f\"\\n✅ Pipeline configurado con {len(pipeline.steps)} steps\")"
   ]
  },
  {
   "cell_type": "markdown",
   "metadata": {},
   "source": [
    "## 5. Ejecutar Pipeline\n",
    "\n",
    "⏱️ Esto puede tomar varios minutos dependiendo del tamaño del dataset y el modelo."
   ]
  },
  {
   "cell_type": "code",
   "execution_count": 29,
   "metadata": {},
   "outputs": [
    {
     "name": "stderr",
     "output_type": "stream",
     "text": [
      "2025-10-16 23:28:38 - SimplePipeline.user-story-to-tasks - INFO - Starting pipeline: user-story-to-tasks\n",
      "2025-10-16 23:28:38 - SimplePipeline.user-story-to-tasks - INFO - Number of steps: 2\n",
      "2025-10-16 23:28:38 - SimplePipeline.user-story-to-tasks - INFO - Executing generator step: load_user_stories\n",
      "2025-10-16 23:28:38 - SimplePipeline.user-story-to-tasks - INFO - Executing step: generate_tasks\n"
     ]
    },
    {
     "name": "stdout",
     "output_type": "stream",
     "text": [
      "🚀 Ejecutando pipeline...\n",
      "\n",
      "================================================================================\n"
     ]
    },
    {
     "name": "stderr",
     "output_type": "stream",
     "text": [
      "Processing generate_tasks: 100%|██████████| 5/5 [00:15<00:00,  3.10s/it]\n",
      "2025-10-16 23:28:54 - SimplePipeline.user-story-to-tasks - INFO -   ✓ Complete (5 rows, 3 columns)\n",
      "2025-10-16 23:28:54 - SimplePipeline.user-story-to-tasks - INFO - Pipeline execution complete!\n"
     ]
    },
    {
     "name": "stdout",
     "output_type": "stream",
     "text": [
      "================================================================================\n",
      "\n",
      "✅ Pipeline completado!\n",
      "   Historias procesadas: 5\n",
      "   Columnas: ['input', 'tasks_raw', 'model_name']\n"
     ]
    }
   ],
   "source": [
    "print(\"🚀 Ejecutando pipeline...\\n\")\n",
    "print(\"=\"*80)\n",
    "\n",
    "result_df = pipeline.run(use_cache=False)\n",
    "\n",
    "print(\"=\"*80)\n",
    "print(\"\\n✅ Pipeline completado!\")\n",
    "print(f\"   Historias procesadas: {len(result_df)}\")\n",
    "print(f\"   Columnas: {list(result_df.columns)}\")"
   ]
  },
  {
   "cell_type": "code",
   "execution_count": 30,
   "metadata": {},
   "outputs": [
    {
     "data": {
      "application/vnd.microsoft.datawrangler.viewer.v0+json": {
       "columns": [
        {
         "name": "index",
         "rawType": "int64",
         "type": "integer"
        },
        {
         "name": "input",
         "rawType": "object",
         "type": "string"
        },
        {
         "name": "tasks_raw",
         "rawType": "object",
         "type": "string"
        },
        {
         "name": "model_name",
         "rawType": "object",
         "type": "string"
        }
       ],
       "ref": "bf4a95e0-2de4-40e7-afce-7af6213bd0d1",
       "rows": [
        [
         "0",
         "{\"project\": \"E-commerce Platform\", \"summary\": \"User login with email and password\", \"description\": \"As a user, I want to log in to the platform using my email and password so that I can access my account and make purchases. The system should validate credentials, handle errors gracefully, and provide password recovery options.\"}",
         "Here are the development tasks broken down from the given user story:",
         "llama3.1:8b"
        ],
        [
         "1",
         "{\"project\": \"Task Management App\", \"summary\": \"Create and assign tasks to team members\", \"description\": \"As a project manager, I want to create tasks and assign them to specific team members so that work can be distributed effectively. Each task should have a title, description, due date, priority level, and assignee. The system should send notifications to assigned members.\"}",
         "That's a comprehensive user story! Here are the broken-down development tasks for efficient implementation.",
         "llama3.1:8b"
        ],
        [
         "2",
         "{\"project\": \"Social Media Dashboard\", \"summary\": \"Display analytics for social media posts\", \"description\": \"As a social media manager, I want to view analytics for all my posts including likes, comments, shares, and reach so that I can measure engagement. The dashboard should support filtering by date range, platform, and post type, with exportable reports.\"}",
         "Development Tasks",
         "llama3.1:8b"
        ],
        [
         "3",
         "{\"project\": \"Healthcare Portal\", \"summary\": \"Schedule medical appointments online\", \"description\": \"As a patient, I want to schedule medical appointments online so that I don't have to call the clinic. The system should show available time slots, allow me to select my preferred doctor, send confirmation emails, and provide reminders before the appointment.\"}",
         "Development Tasks for 'Schedule medical appointments online' User Story in Healthcare Portal",
         "llama3.1:8b"
        ],
        [
         "4",
         "{\"project\": \"Inventory Management System\", \"summary\": \"Track product stock levels and reorder automatically\", \"description\": \"As a warehouse manager, I want the system to automatically track stock levels and trigger reorder alerts when inventory falls below minimum thresholds. The system should integrate with suppliers, generate purchase orders, and maintain a complete audit trail of all inventory movements.\"}",
         "Here are the broken-down development tasks for the given user story:",
         "llama3.1:8b"
        ]
       ],
       "shape": {
        "columns": 3,
        "rows": 5
       }
      },
      "text/html": [
       "<div>\n",
       "<style scoped>\n",
       "    .dataframe tbody tr th:only-of-type {\n",
       "        vertical-align: middle;\n",
       "    }\n",
       "\n",
       "    .dataframe tbody tr th {\n",
       "        vertical-align: top;\n",
       "    }\n",
       "\n",
       "    .dataframe thead th {\n",
       "        text-align: right;\n",
       "    }\n",
       "</style>\n",
       "<table border=\"1\" class=\"dataframe\">\n",
       "  <thead>\n",
       "    <tr style=\"text-align: right;\">\n",
       "      <th></th>\n",
       "      <th>input</th>\n",
       "      <th>tasks_raw</th>\n",
       "      <th>model_name</th>\n",
       "    </tr>\n",
       "  </thead>\n",
       "  <tbody>\n",
       "    <tr>\n",
       "      <th>0</th>\n",
       "      <td>{\"project\": \"E-commerce Platform\", \"summary\": ...</td>\n",
       "      <td>Here are the development tasks broken down fro...</td>\n",
       "      <td>llama3.1:8b</td>\n",
       "    </tr>\n",
       "    <tr>\n",
       "      <th>1</th>\n",
       "      <td>{\"project\": \"Task Management App\", \"summary\": ...</td>\n",
       "      <td>That's a comprehensive user story! Here are th...</td>\n",
       "      <td>llama3.1:8b</td>\n",
       "    </tr>\n",
       "    <tr>\n",
       "      <th>2</th>\n",
       "      <td>{\"project\": \"Social Media Dashboard\", \"summary...</td>\n",
       "      <td>Development Tasks</td>\n",
       "      <td>llama3.1:8b</td>\n",
       "    </tr>\n",
       "    <tr>\n",
       "      <th>3</th>\n",
       "      <td>{\"project\": \"Healthcare Portal\", \"summary\": \"S...</td>\n",
       "      <td>Development Tasks for 'Schedule medical appoin...</td>\n",
       "      <td>llama3.1:8b</td>\n",
       "    </tr>\n",
       "    <tr>\n",
       "      <th>4</th>\n",
       "      <td>{\"project\": \"Inventory Management System\", \"su...</td>\n",
       "      <td>Here are the broken-down development tasks for...</td>\n",
       "      <td>llama3.1:8b</td>\n",
       "    </tr>\n",
       "  </tbody>\n",
       "</table>\n",
       "</div>"
      ],
      "text/plain": [
       "                                               input  \\\n",
       "0  {\"project\": \"E-commerce Platform\", \"summary\": ...   \n",
       "1  {\"project\": \"Task Management App\", \"summary\": ...   \n",
       "2  {\"project\": \"Social Media Dashboard\", \"summary...   \n",
       "3  {\"project\": \"Healthcare Portal\", \"summary\": \"S...   \n",
       "4  {\"project\": \"Inventory Management System\", \"su...   \n",
       "\n",
       "                                           tasks_raw   model_name  \n",
       "0  Here are the development tasks broken down fro...  llama3.1:8b  \n",
       "1  That's a comprehensive user story! Here are th...  llama3.1:8b  \n",
       "2                                  Development Tasks  llama3.1:8b  \n",
       "3  Development Tasks for 'Schedule medical appoin...  llama3.1:8b  \n",
       "4  Here are the broken-down development tasks for...  llama3.1:8b  "
      ]
     },
     "execution_count": 30,
     "metadata": {},
     "output_type": "execute_result"
    }
   ],
   "source": [
    "result_df"
   ]
  },
  {
   "cell_type": "markdown",
   "metadata": {},
   "source": [
    "## 6. Verificar Resultados"
   ]
  },
  {
   "cell_type": "code",
   "execution_count": 31,
   "metadata": {},
   "outputs": [
    {
     "ename": "KeyError",
     "evalue": "'status'",
     "output_type": "error",
     "traceback": [
      "\u001b[0;31m---------------------------------------------------------------------------\u001b[0m",
      "\u001b[0;31mKeyError\u001b[0m                                  Traceback (most recent call last)",
      "File \u001b[0;32m/opt/homebrew/Caskroom/miniconda/base/envs/tesis/lib/python3.13/site-packages/pandas/core/indexes/base.py:3812\u001b[0m, in \u001b[0;36mIndex.get_loc\u001b[0;34m(self, key)\u001b[0m\n\u001b[1;32m   3811\u001b[0m \u001b[38;5;28;01mtry\u001b[39;00m:\n\u001b[0;32m-> 3812\u001b[0m     \u001b[38;5;28;01mreturn\u001b[39;00m \u001b[38;5;28;43mself\u001b[39;49m\u001b[38;5;241;43m.\u001b[39;49m\u001b[43m_engine\u001b[49m\u001b[38;5;241;43m.\u001b[39;49m\u001b[43mget_loc\u001b[49m\u001b[43m(\u001b[49m\u001b[43mcasted_key\u001b[49m\u001b[43m)\u001b[49m\n\u001b[1;32m   3813\u001b[0m \u001b[38;5;28;01mexcept\u001b[39;00m \u001b[38;5;167;01mKeyError\u001b[39;00m \u001b[38;5;28;01mas\u001b[39;00m err:\n",
      "File \u001b[0;32mpandas/_libs/index.pyx:167\u001b[0m, in \u001b[0;36mpandas._libs.index.IndexEngine.get_loc\u001b[0;34m()\u001b[0m\n",
      "File \u001b[0;32mpandas/_libs/index.pyx:196\u001b[0m, in \u001b[0;36mpandas._libs.index.IndexEngine.get_loc\u001b[0;34m()\u001b[0m\n",
      "File \u001b[0;32mpandas/_libs/hashtable_class_helper.pxi:7088\u001b[0m, in \u001b[0;36mpandas._libs.hashtable.PyObjectHashTable.get_item\u001b[0;34m()\u001b[0m\n",
      "File \u001b[0;32mpandas/_libs/hashtable_class_helper.pxi:7096\u001b[0m, in \u001b[0;36mpandas._libs.hashtable.PyObjectHashTable.get_item\u001b[0;34m()\u001b[0m\n",
      "\u001b[0;31mKeyError\u001b[0m: 'status'",
      "\nThe above exception was the direct cause of the following exception:\n",
      "\u001b[0;31mKeyError\u001b[0m                                  Traceback (most recent call last)",
      "Cell \u001b[0;32mIn[31], line 2\u001b[0m\n\u001b[1;32m      1\u001b[0m \u001b[38;5;66;03m# Separar exitosos y fallidos\u001b[39;00m\n\u001b[0;32m----> 2\u001b[0m successful \u001b[38;5;241m=\u001b[39m result_df[\u001b[43mresult_df\u001b[49m\u001b[43m[\u001b[49m\u001b[38;5;124;43m'\u001b[39;49m\u001b[38;5;124;43mstatus\u001b[39;49m\u001b[38;5;124;43m'\u001b[39;49m\u001b[43m]\u001b[49m \u001b[38;5;241m==\u001b[39m \u001b[38;5;124m'\u001b[39m\u001b[38;5;124msuccess\u001b[39m\u001b[38;5;124m'\u001b[39m]\u001b[38;5;241m.\u001b[39mcopy()\n\u001b[1;32m      3\u001b[0m failed \u001b[38;5;241m=\u001b[39m result_df[result_df[\u001b[38;5;124m'\u001b[39m\u001b[38;5;124mstatus\u001b[39m\u001b[38;5;124m'\u001b[39m] \u001b[38;5;241m==\u001b[39m \u001b[38;5;124m'\u001b[39m\u001b[38;5;124mfailed\u001b[39m\u001b[38;5;124m'\u001b[39m]\u001b[38;5;241m.\u001b[39mcopy()\n\u001b[1;32m      5\u001b[0m \u001b[38;5;28mprint\u001b[39m(\u001b[38;5;124mf\u001b[39m\u001b[38;5;124m\"\u001b[39m\u001b[38;5;124m📊 Resumen de Ejecución:\u001b[39m\u001b[38;5;124m\"\u001b[39m)\n",
      "File \u001b[0;32m/opt/homebrew/Caskroom/miniconda/base/envs/tesis/lib/python3.13/site-packages/pandas/core/frame.py:4107\u001b[0m, in \u001b[0;36mDataFrame.__getitem__\u001b[0;34m(self, key)\u001b[0m\n\u001b[1;32m   4105\u001b[0m \u001b[38;5;28;01mif\u001b[39;00m \u001b[38;5;28mself\u001b[39m\u001b[38;5;241m.\u001b[39mcolumns\u001b[38;5;241m.\u001b[39mnlevels \u001b[38;5;241m>\u001b[39m \u001b[38;5;241m1\u001b[39m:\n\u001b[1;32m   4106\u001b[0m     \u001b[38;5;28;01mreturn\u001b[39;00m \u001b[38;5;28mself\u001b[39m\u001b[38;5;241m.\u001b[39m_getitem_multilevel(key)\n\u001b[0;32m-> 4107\u001b[0m indexer \u001b[38;5;241m=\u001b[39m \u001b[38;5;28;43mself\u001b[39;49m\u001b[38;5;241;43m.\u001b[39;49m\u001b[43mcolumns\u001b[49m\u001b[38;5;241;43m.\u001b[39;49m\u001b[43mget_loc\u001b[49m\u001b[43m(\u001b[49m\u001b[43mkey\u001b[49m\u001b[43m)\u001b[49m\n\u001b[1;32m   4108\u001b[0m \u001b[38;5;28;01mif\u001b[39;00m is_integer(indexer):\n\u001b[1;32m   4109\u001b[0m     indexer \u001b[38;5;241m=\u001b[39m [indexer]\n",
      "File \u001b[0;32m/opt/homebrew/Caskroom/miniconda/base/envs/tesis/lib/python3.13/site-packages/pandas/core/indexes/base.py:3819\u001b[0m, in \u001b[0;36mIndex.get_loc\u001b[0;34m(self, key)\u001b[0m\n\u001b[1;32m   3814\u001b[0m     \u001b[38;5;28;01mif\u001b[39;00m \u001b[38;5;28misinstance\u001b[39m(casted_key, \u001b[38;5;28mslice\u001b[39m) \u001b[38;5;129;01mor\u001b[39;00m (\n\u001b[1;32m   3815\u001b[0m         \u001b[38;5;28misinstance\u001b[39m(casted_key, abc\u001b[38;5;241m.\u001b[39mIterable)\n\u001b[1;32m   3816\u001b[0m         \u001b[38;5;129;01mand\u001b[39;00m \u001b[38;5;28many\u001b[39m(\u001b[38;5;28misinstance\u001b[39m(x, \u001b[38;5;28mslice\u001b[39m) \u001b[38;5;28;01mfor\u001b[39;00m x \u001b[38;5;129;01min\u001b[39;00m casted_key)\n\u001b[1;32m   3817\u001b[0m     ):\n\u001b[1;32m   3818\u001b[0m         \u001b[38;5;28;01mraise\u001b[39;00m InvalidIndexError(key)\n\u001b[0;32m-> 3819\u001b[0m     \u001b[38;5;28;01mraise\u001b[39;00m \u001b[38;5;167;01mKeyError\u001b[39;00m(key) \u001b[38;5;28;01mfrom\u001b[39;00m\u001b[38;5;250m \u001b[39m\u001b[38;5;21;01merr\u001b[39;00m\n\u001b[1;32m   3820\u001b[0m \u001b[38;5;28;01mexcept\u001b[39;00m \u001b[38;5;167;01mTypeError\u001b[39;00m:\n\u001b[1;32m   3821\u001b[0m     \u001b[38;5;66;03m# If we have a listlike key, _check_indexing_error will raise\u001b[39;00m\n\u001b[1;32m   3822\u001b[0m     \u001b[38;5;66;03m#  InvalidIndexError. Otherwise we fall through and re-raise\u001b[39;00m\n\u001b[1;32m   3823\u001b[0m     \u001b[38;5;66;03m#  the TypeError.\u001b[39;00m\n\u001b[1;32m   3824\u001b[0m     \u001b[38;5;28mself\u001b[39m\u001b[38;5;241m.\u001b[39m_check_indexing_error(key)\n",
      "\u001b[0;31mKeyError\u001b[0m: 'status'"
     ]
    }
   ],
   "source": [
    "# Separar exitosos y fallidos\n",
    "successful = result_df[result_df['status'] == 'success'].copy()\n",
    "failed = result_df[result_df['status'] == 'failed'].copy()\n",
    "\n",
    "print(f\"📊 Resumen de Ejecución:\")\n",
    "print(f\"   ✅ Exitosos: {len(successful)} ({len(successful)/len(result_df)*100:.1f}%)\")\n",
    "print(f\"   ❌ Fallidos: {len(failed)} ({len(failed)/len(result_df)*100:.1f}%)\")\n",
    "\n",
    "if len(failed) > 0:\n",
    "    print(f\"\\n⚠️ Errores encontrados:\")\n",
    "    for idx, row in failed.iterrows():\n",
    "        print(f\"   Historia {idx}: {str(row['error'])[:80]}\")\n",
    "    print(f\"\\n   Ver detalles en: ../failures/\")"
   ]
  },
  {
   "cell_type": "markdown",
   "metadata": {},
   "source": [
    "## 7. Post-Procesamiento\n",
    "\n",
    "Parseamos las tareas del formato de respuesta."
   ]
  },
  {
   "cell_type": "code",
   "execution_count": null,
   "metadata": {},
   "outputs": [
    {
     "name": "stdout",
     "output_type": "stream",
     "text": [
      "📝 Tareas parseadas:\n",
      "   Total: 0\n",
      "   Promedio: 0.0 tareas/historia\n",
      "   Rango: 0 - 0\n"
     ]
    }
   ],
   "source": [
    "def parse_tasks_from_response(response_text: str) -> List[Dict[str, str]]:\n",
    "    \"\"\"\n",
    "    Parsea las tareas del formato especificado.\n",
    "    \n",
    "    Formato esperado:\n",
    "    1. summary: task summary 1\n",
    "    description: task description 1\n",
    "    \n",
    "    2. summary: task summary 2\n",
    "    description: task description 2\n",
    "    \"\"\"\n",
    "    tasks = []\n",
    "    \n",
    "    if not response_text or pd.isna(response_text):\n",
    "        return tasks\n",
    "    \n",
    "    # Pattern para encontrar tareas numeradas\n",
    "    pattern = r'(\\d+)\\.\\s*summary:\\s*(.+?)\\s*description:\\s*(.+?)(?=\\d+\\.\\s*summary:|$)'\n",
    "    \n",
    "    matches = re.finditer(pattern, response_text, re.IGNORECASE | re.DOTALL)\n",
    "    \n",
    "    for match in matches:\n",
    "        task_number = match.group(1)\n",
    "        summary = match.group(2).strip()\n",
    "        description = match.group(3).strip()\n",
    "        \n",
    "        tasks.append({\n",
    "            'task_number': int(task_number),\n",
    "            'summary': summary,\n",
    "            'description': description\n",
    "        })\n",
    "    \n",
    "    return tasks\n",
    "\n",
    "# Aplicar parsing\n",
    "if len(successful) > 0:\n",
    "    successful['tasks_parsed'] = successful['tasks_raw'].apply(parse_tasks_from_response)\n",
    "    successful['num_tasks'] = successful['tasks_parsed'].apply(len)\n",
    "    \n",
    "    print(\"📝 Tareas parseadas:\")\n",
    "    print(f\"   Total: {successful['num_tasks'].sum()}\")\n",
    "    print(f\"   Promedio: {successful['num_tasks'].mean():.1f} tareas/historia\")\n",
    "    print(f\"   Rango: {successful['num_tasks'].min()} - {successful['num_tasks'].max()}\")\n",
    "else:\n",
    "    print(\"⚠️ No hay resultados exitosos para parsear\")"
   ]
  },
  {
   "cell_type": "markdown",
   "metadata": {},
   "source": [
    "## 8. Visualizar Ejemplo"
   ]
  },
  {
   "cell_type": "code",
   "execution_count": null,
   "metadata": {},
   "outputs": [
    {
     "name": "stdout",
     "output_type": "stream",
     "text": [
      "\n",
      "📋 EJEMPLO DE RESULTADO\n",
      "================================================================================\n",
      "\n",
      "🎯 Historia de Usuario:\n",
      "   Proyecto: E-commerce Platform\n",
      "   Summary: User login with email and password\n",
      "   Description: As a user, I want to log in to the platform using my email and password so that I can access my account and make purchases. The system should validate...\n",
      "\n",
      "✅ Tareas Generadas (0 tareas):\n",
      "\n",
      "\n",
      "================================================================================\n"
     ]
    }
   ],
   "source": [
    "# Ver ejemplo de tareas generadas\n",
    "if len(successful) > 0:\n",
    "    print(\"\\n📋 EJEMPLO DE RESULTADO\")\n",
    "    print(\"=\"*80)\n",
    "    \n",
    "    story = successful.iloc[0]\n",
    "    us_data = json.loads(story['input'])\n",
    "    \n",
    "    print(f\"\\n🎯 Historia de Usuario:\")\n",
    "    print(f\"   Proyecto: {us_data['project']}\")\n",
    "    print(f\"   Summary: {us_data['summary']}\")\n",
    "    print(f\"   Description: {us_data['description'][:150]}...\")\n",
    "    \n",
    "    print(f\"\\n✅ Tareas Generadas ({story['num_tasks']} tareas):\\n\")\n",
    "    \n",
    "    for task in story['tasks_parsed']:\n",
    "        print(f\"\\n{task['task_number']}. Summary: {task['summary']}\")\n",
    "        print(f\"   Description: {task['description'][:200]}...\")\n",
    "    \n",
    "    print(\"\\n\" + \"=\"*80)"
   ]
  },
  {
   "cell_type": "markdown",
   "metadata": {},
   "source": [
    "## 9. Análisis Estadístico"
   ]
  },
  {
   "cell_type": "code",
   "execution_count": null,
   "metadata": {},
   "outputs": [
    {
     "name": "stdout",
     "output_type": "stream",
     "text": [
      "📊 ESTADÍSTICAS\n",
      "================================================================================\n",
      "\n",
      "Total de tareas generadas: 0\n",
      "\n",
      "Distribución por historia:\n",
      "  Mínimo: 0 tareas\n",
      "  Máximo: 0 tareas\n",
      "  Media: 0.00 tareas\n",
      "  Mediana: 0 tareas\n",
      "  Desv. Std: 0.00\n"
     ]
    },
    {
     "data": {
      "image/png": "[encoded data removed]",
      "text/plain": [
       "<Figure size 1500x500 with 2 Axes>"
      ]
     },
     "metadata": {},
     "output_type": "display_data"
    }
   ],
   "source": [
    "if len(successful) > 0:\n",
    "    # Estadísticas\n",
    "    print(\"📊 ESTADÍSTICAS\")\n",
    "    print(\"=\"*80)\n",
    "    print(f\"\\nTotal de tareas generadas: {successful['num_tasks'].sum()}\")\n",
    "    print(f\"\\nDistribución por historia:\")\n",
    "    print(f\"  Mínimo: {successful['num_tasks'].min()} tareas\")\n",
    "    print(f\"  Máximo: {successful['num_tasks'].max()} tareas\")\n",
    "    print(f\"  Media: {successful['num_tasks'].mean():.2f} tareas\")\n",
    "    print(f\"  Mediana: {successful['num_tasks'].median():.0f} tareas\")\n",
    "    print(f\"  Desv. Std: {successful['num_tasks'].std():.2f}\")\n",
    "    \n",
    "    # Visualización\n",
    "    fig, axes = plt.subplots(1, 2, figsize=(15, 5))\n",
    "    \n",
    "    # Histograma\n",
    "    axes[0].hist(successful['num_tasks'], \n",
    "                 bins=range(successful['num_tasks'].min(), successful['num_tasks'].max()+2),\n",
    "                 edgecolor='black', alpha=0.7, color='steelblue')\n",
    "    axes[0].set_xlabel('Número de Tareas')\n",
    "    axes[0].set_ylabel('Frecuencia')\n",
    "    axes[0].set_title('Distribución de Tareas por Historia')\n",
    "    axes[0].grid(axis='y', alpha=0.3)\n",
    "    \n",
    "    # Box plot\n",
    "    axes[1].boxplot(successful['num_tasks'], vert=True)\n",
    "    axes[1].set_ylabel('Número de Tareas')\n",
    "    axes[1].set_title('Box Plot - Tareas por Historia')\n",
    "    axes[1].grid(axis='y', alpha=0.3)\n",
    "    \n",
    "    plt.tight_layout()\n",
    "    plt.show()"
   ]
  },
  {
   "cell_type": "markdown",
   "metadata": {},
   "source": [
    "## 10. Exportar Resultados"
   ]
  },
  {
   "cell_type": "code",
   "execution_count": null,
   "metadata": {},
   "outputs": [
    {
     "name": "stdout",
     "output_type": "stream",
     "text": [
      "📊 Dataset preparado para exportación:\n",
      "   Filas (tareas individuales): 0\n",
      "   Columnas: []\n"
     ]
    },
    {
     "data": {
      "application/vnd.microsoft.datawrangler.viewer.v0+json": {
       "columns": [
        {
         "name": "index",
         "rawType": "int64",
         "type": "integer"
        }
       ],
       "ref": "8663396d-f4f5-442f-9891-f90a2bf49a67",
       "rows": [],
       "shape": {
        "columns": 0,
        "rows": 0
       }
      },
      "text/html": [
       "<div>\n",
       "<style scoped>\n",
       "    .dataframe tbody tr th:only-of-type {\n",
       "        vertical-align: middle;\n",
       "    }\n",
       "\n",
       "    .dataframe tbody tr th {\n",
       "        vertical-align: top;\n",
       "    }\n",
       "\n",
       "    .dataframe thead th {\n",
       "        text-align: right;\n",
       "    }\n",
       "</style>\n",
       "<table border=\"1\" class=\"dataframe\">\n",
       "  <thead>\n",
       "    <tr style=\"text-align: right;\">\n",
       "      <th></th>\n",
       "    </tr>\n",
       "  </thead>\n",
       "  <tbody>\n",
       "  </tbody>\n",
       "</table>\n",
       "</div>"
      ],
      "text/plain": [
       "Empty DataFrame\n",
       "Columns: []\n",
       "Index: []"
      ]
     },
     "metadata": {},
     "output_type": "display_data"
    }
   ],
   "source": [
    "if len(successful) > 0:\n",
    "    # Formato \"plano\" donde cada tarea es una fila\n",
    "    export_rows = []\n",
    "    \n",
    "    for idx, row in successful.iterrows():\n",
    "        us_data = json.loads(row['input'])\n",
    "        \n",
    "        for task in row['tasks_parsed']:\n",
    "            export_rows.append({\n",
    "                'user_story_id': idx,\n",
    "                'project': us_data['project'],\n",
    "                'user_story_summary': us_data['summary'],\n",
    "                'user_story_description': us_data['description'],\n",
    "                'task_number': task['task_number'],\n",
    "                'task_summary': task['summary'],\n",
    "                'task_description': task['description']\n",
    "            })\n",
    "    \n",
    "    export_df = pd.DataFrame(export_rows)\n",
    "    \n",
    "    print(f\"📊 Dataset preparado para exportación:\")\n",
    "    print(f\"   Filas (tareas individuales): {len(export_df)}\")\n",
    "    print(f\"   Columnas: {list(export_df.columns)}\")\n",
    "    \n",
    "    display(export_df.head(10))"
   ]
  },
  {
   "cell_type": "code",
   "execution_count": null,
   "metadata": {},
   "outputs": [],
   "source": [
    "if len(successful) > 0:\n",
    "    # Exportar a CSV\n",
    "    csv_path = \"../data/user_stories_with_tasks.csv\"\n",
    "    export_df.to_csv(csv_path, index=False)\n",
    "    print(f\"✅ CSV: {csv_path}\")\n",
    "    \n",
    "    # Exportar a Excel\n",
    "    excel_path = \"../data/user_stories_with_tasks.xlsx\"\n",
    "    export_df.to_excel(excel_path, index=False, engine='openpyxl')\n",
    "    print(f\"✅ Excel: {excel_path}\")\n",
    "    \n",
    "    # Exportar resultado raw\n",
    "    raw_path = \"../data/pipeline_raw_output.csv\"\n",
    "    result_df.to_csv(raw_path, index=False)\n",
    "    print(f\"✅ Raw: {raw_path}\")\n",
    "    \n",
    "    print(f\"\\n💾 Archivos exportados exitosamente\")"
   ]
  },
  {
   "cell_type": "markdown",
   "metadata": {},
   "source": [
    "## 11. Resumen Final"
   ]
  },
  {
   "cell_type": "code",
   "execution_count": null,
   "metadata": {},
   "outputs": [],
   "source": [
    "print(\"\\n\" + \"=\"*80)\n",
    "print(\"📋 RESUMEN FINAL\")\n",
    "print(\"=\"*80)\n",
    "\n",
    "print(f\"\\n📥 Input:\")\n",
    "print(f\"   Historias procesadas: {len(df)}\")\n",
    "\n",
    "print(f\"\\n⚙️ Procesamiento:\")\n",
    "print(f\"   Modelo: {CONFIG['model_name']}\")\n",
    "print(f\"   Tasa de éxito: {len(successful)/len(result_df)*100:.1f}%\")\n",
    "\n",
    "if len(successful) > 0:\n",
    "    print(f\"\\n📤 Output:\")\n",
    "    print(f\"   Tareas generadas: {successful['num_tasks'].sum()}\")\n",
    "    print(f\"   Promedio: {successful['num_tasks'].mean():.2f} tareas/historia\")\n",
    "\n",
    "print(f\"\\n💾 Archivos:\")\n",
    "print(f\"   • CSV: ../data/user_stories_with_tasks.csv\")\n",
    "print(f\"   • Excel: ../data/user_stories_with_tasks.xlsx\")\n",
    "print(f\"   • Raw: ../data/pipeline_raw_output.csv\")\n",
    "\n",
    "if len(failed) > 0:\n",
    "    print(f\"\\n⚠️ Errores:\")\n",
    "    print(f\"   {len(failed)} historias fallaron - revisar ../failures/\")\n",
    "\n",
    "print(\"\\n\" + \"=\"*80)\n",
    "print(\"✅ PIPELINE COMPLETADO\")\n",
    "print(\"=\"*80)"
   ]
  },
  {
   "cell_type": "markdown",
   "metadata": {},
   "source": [
    "## 🎯 Siguientes Pasos\n",
    "\n",
    "### Para mejorar resultados:\n",
    "1. **Ajustar prompt**: Modificar `create_task_generation_prompt()` para más especificidad\n",
    "2. **Probar modelos**: Cambiar `model_name` (llama3, mistral, codellama)\n",
    "3. **Ajustar temperatura**: Valores más bajos (0.5) = más deterministico\n",
    "4. **Aumentar tokens**: `num_predict` si las tareas se cortan\n",
    "\n",
    "### Para procesar más datos:\n",
    "1. Cargar CSV con tu dataset real\n",
    "2. Ajustar `batch_size` según tu hardware\n",
    "3. Usar cache para iteraciones rápidas\n",
    "4. Procesar en chunks si dataset es muy grande"
   ]
  }
 ],
 "metadata": {
  "kernelspec": {
   "display_name": "tesis",
   "language": "python",
   "name": "python3"
  },
  "language_info": {
   "codemirror_mode": {
    "name": "ipython",
    "version": 3
   },
   "file_extension": ".py",
   "mimetype": "text/x-python",
   "name": "python",
   "nbconvert_exporter": "python",
   "pygments_lexer": "ipython3",
   "version": "3.13.7"
  }
 },
 "nbformat": 4,
 "nbformat_minor": 4
}
